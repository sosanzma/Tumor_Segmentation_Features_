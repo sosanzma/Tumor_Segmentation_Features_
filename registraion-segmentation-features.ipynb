{
 "cells": [
  {
   "cell_type": "markdown",
   "id": "040864c2",
   "metadata": {
    "execution": {
     "iopub.execute_input": "2022-05-09T15:10:47.489748Z",
     "iopub.status.busy": "2022-05-09T15:10:47.48928Z",
     "iopub.status.idle": "2022-05-09T15:10:47.495188Z",
     "shell.execute_reply": "2022-05-09T15:10:47.493438Z",
     "shell.execute_reply.started": "2022-05-09T15:10:47.489715Z"
    },
    "papermill": {
     "duration": 0.03785,
     "end_time": "2022-05-10T09:54:06.968311",
     "exception": false,
     "start_time": "2022-05-10T09:54:06.930461",
     "status": "completed"
    },
    "tags": []
   },
   "source": [
    "# Trabajo Ciencia de Datos en biomedicina \n",
    "\n",
    "### Manel Soler Sanz\n",
    "### Bobby Risckson"
   ]
  },
  {
   "cell_type": "markdown",
   "id": "86cca1f4",
   "metadata": {
    "papermill": {
     "duration": 0.034818,
     "end_time": "2022-05-10T09:54:07.038372",
     "exception": false,
     "start_time": "2022-05-10T09:54:07.003554",
     "status": "completed"
    },
    "tags": []
   },
   "source": [
    "\n",
    "### Registration \n",
    "https://www.kaggle.com/boojum/connecting-voxel-spaces/\n",
    "![](https://sun9-45.userapi.com/impg/Flbnug2OUli1ecXsoIKeUasIGXGj_5hqjX4cRg/z2nfz8-b3a0.jpg?size=2560x1153&quality=96&sign=0536543610f1655d967af88dbc775e98&type=album)\n",
    "\n",
    "### Segmentation \n",
    "Unet\n",
    "https://pytorch.org/hub/mateuszbuda_brain-segmentation-pytorch_unet/\n",
    "\n",
    "### Features\n",
    "\n",
    "https://pyradiomics.readthedocs.io/en/latest/features.html#module-radiomics.shape2D"
   ]
  },
  {
   "cell_type": "markdown",
   "id": "7bd99650",
   "metadata": {
    "papermill": {
     "duration": 0.034958,
     "end_time": "2022-05-10T09:54:07.110723",
     "exception": false,
     "start_time": "2022-05-10T09:54:07.075765",
     "status": "completed"
    },
    "tags": []
   },
   "source": [
    "# Trabajo de segmentacion\n",
    "\n",
    "Primeramente vamos a extraer características de cada una de las imagenes junto a su segmentación. Estas características las conseguiremos utilizando la libreria de `Pyradiomics`. \n",
    "Una vez tengamos un data frame con características de  300 imagenes, entrenaremos un clasificador para evaluar el rendimiento de deteeccion del tumor así como las características más importantes en la detección de este."
   ]
  },
  {
   "cell_type": "code",
   "execution_count": 1,
   "id": "1a6cb019",
   "metadata": {
    "_cell_guid": "b1076dfc-b9ad-4769-8c92-a6c4dae69d19",
    "_uuid": "8f2839f25d086af736a60e9eeb907d3b93b6e0e5",
    "execution": {
     "iopub.execute_input": "2022-05-10T09:54:07.190394Z",
     "iopub.status.busy": "2022-05-10T09:54:07.189840Z",
     "iopub.status.idle": "2022-05-10T09:54:19.120852Z",
     "shell.execute_reply": "2022-05-10T09:54:19.120219Z",
     "shell.execute_reply.started": "2022-05-09T15:10:47.690605Z"
    },
    "papermill": {
     "duration": 11.975465,
     "end_time": "2022-05-10T09:54:19.121008",
     "exception": false,
     "start_time": "2022-05-10T09:54:07.145543",
     "status": "completed"
    },
    "tags": []
   },
   "outputs": [
    {
     "name": "stdout",
     "output_type": "stream",
     "text": [
      "Collecting pyradiomics\r\n",
      "  Downloading pyradiomics-3.0.1-cp37-cp37m-manylinux1_x86_64.whl (188 kB)\r\n",
      "\u001b[K     |████████████████████████████████| 188 kB 595 kB/s \r\n",
      "\u001b[?25hRequirement already satisfied: six>=1.10.0 in /opt/conda/lib/python3.7/site-packages (from pyradiomics) (1.15.0)\r\n",
      "Collecting pykwalify>=1.6.0\r\n",
      "  Downloading pykwalify-1.8.0-py2.py3-none-any.whl (24 kB)\r\n",
      "Requirement already satisfied: PyWavelets>=0.4.0 in /opt/conda/lib/python3.7/site-packages (from pyradiomics) (1.1.1)\r\n",
      "Requirement already satisfied: SimpleITK>=0.9.1 in /opt/conda/lib/python3.7/site-packages (from pyradiomics) (2.0.2)\r\n",
      "Requirement already satisfied: numpy>=1.9.2 in /opt/conda/lib/python3.7/site-packages (from pyradiomics) (1.19.5)\r\n",
      "Requirement already satisfied: python-dateutil>=2.8.0 in /opt/conda/lib/python3.7/site-packages (from pykwalify>=1.6.0->pyradiomics) (2.8.1)\r\n",
      "Collecting ruamel.yaml>=0.16.0\r\n",
      "  Downloading ruamel.yaml-0.17.21-py3-none-any.whl (109 kB)\r\n",
      "\u001b[K     |████████████████████████████████| 109 kB 4.9 MB/s \r\n",
      "\u001b[?25hCollecting docopt>=0.6.2\r\n",
      "  Downloading docopt-0.6.2.tar.gz (25 kB)\r\n",
      "Collecting ruamel.yaml.clib>=0.2.6\r\n",
      "  Downloading ruamel.yaml.clib-0.2.6-cp37-cp37m-manylinux1_x86_64.whl (546 kB)\r\n",
      "\u001b[K     |████████████████████████████████| 546 kB 5.3 MB/s \r\n",
      "\u001b[?25hBuilding wheels for collected packages: docopt\r\n",
      "  Building wheel for docopt (setup.py) ... \u001b[?25l-\b \b\\\b \bdone\r\n",
      "\u001b[?25h  Created wheel for docopt: filename=docopt-0.6.2-py2.py3-none-any.whl size=13705 sha256=766a12cfc2ab8afd9c887fdd29cd54bef0da5da046da654ae5946d926018c799\r\n",
      "  Stored in directory: /root/.cache/pip/wheels/72/b0/3f/1d95f96ff986c7dfffe46ce2be4062f38ebd04b506c77c81b9\r\n",
      "Successfully built docopt\r\n",
      "Installing collected packages: ruamel.yaml.clib, ruamel.yaml, docopt, pykwalify, pyradiomics\r\n",
      "Successfully installed docopt-0.6.2 pykwalify-1.8.0 pyradiomics-3.0.1 ruamel.yaml-0.17.21 ruamel.yaml.clib-0.2.6\r\n",
      "\u001b[33mWARNING: Running pip as root will break packages and permissions. You should install packages reliably by using venv: https://pip.pypa.io/warnings/venv\u001b[0m\r\n"
     ]
    }
   ],
   "source": [
    "!pip install pyradiomics"
   ]
  },
  {
   "cell_type": "code",
   "execution_count": 2,
   "id": "f017a9b4",
   "metadata": {
    "execution": {
     "iopub.execute_input": "2022-05-10T09:54:19.207391Z",
     "iopub.status.busy": "2022-05-10T09:54:19.206579Z",
     "iopub.status.idle": "2022-05-10T09:54:21.104937Z",
     "shell.execute_reply": "2022-05-10T09:54:21.104041Z",
     "shell.execute_reply.started": "2022-05-09T15:10:57.476705Z"
    },
    "papermill": {
     "duration": 1.943846,
     "end_time": "2022-05-10T09:54:21.105078",
     "exception": false,
     "start_time": "2022-05-10T09:54:19.161232",
     "status": "completed"
    },
    "tags": []
   },
   "outputs": [],
   "source": [
    "import os\n",
    "import sys \n",
    "from tqdm import tqdm\n",
    "import numpy as np\n",
    "import pandas as pd\n",
    "from PIL import Image\n",
    "import pydicom\n",
    "import torch\n",
    "import nibabel as nib\n",
    "import matplotlib.pyplot as plt\n",
    "import SimpleITK as sitk\n",
    "import radiomics\n",
    "\n",
    "train_path = '../input/rsna-miccai-brain-tumor-radiogenomic-classification/train/'"
   ]
  },
  {
   "cell_type": "code",
   "execution_count": 3,
   "id": "964ebabc",
   "metadata": {
    "execution": {
     "iopub.execute_input": "2022-05-10T09:54:21.195135Z",
     "iopub.status.busy": "2022-05-10T09:54:21.194266Z",
     "iopub.status.idle": "2022-05-10T09:54:21.264557Z",
     "shell.execute_reply": "2022-05-10T09:54:21.264050Z",
     "shell.execute_reply.started": "2022-05-09T15:10:57.487198Z"
    },
    "papermill": {
     "duration": 0.115404,
     "end_time": "2022-05-10T09:54:21.264680",
     "exception": false,
     "start_time": "2022-05-10T09:54:21.149276",
     "status": "completed"
    },
    "tags": []
   },
   "outputs": [],
   "source": [
    "train_dirs = sorted(os.listdir(train_path))\n",
    "\n",
    "\n",
    "\n",
    "\n",
    "train_labels= pd.read_csv(\"../input/rsna-miccai-brain-tumor-radiogenomic-classification/train_labels.csv\")"
   ]
  },
  {
   "cell_type": "code",
   "execution_count": 4,
   "id": "b1d1348e",
   "metadata": {
    "execution": {
     "iopub.execute_input": "2022-05-10T09:54:21.354758Z",
     "iopub.status.busy": "2022-05-10T09:54:21.353956Z",
     "iopub.status.idle": "2022-05-10T09:54:21.360659Z",
     "shell.execute_reply": "2022-05-10T09:54:21.360217Z",
     "shell.execute_reply.started": "2022-05-10T09:51:48.722483Z"
    },
    "papermill": {
     "duration": 0.05296,
     "end_time": "2022-05-10T09:54:21.360793",
     "exception": false,
     "start_time": "2022-05-10T09:54:21.307833",
     "status": "completed"
    },
    "tags": []
   },
   "outputs": [],
   "source": [
    "reader = sitk.ImageSeriesReader()\n",
    "reader.LoadPrivateTagsOn()"
   ]
  },
  {
   "cell_type": "code",
   "execution_count": 5,
   "id": "44073515",
   "metadata": {
    "execution": {
     "iopub.execute_input": "2022-05-10T09:54:21.451464Z",
     "iopub.status.busy": "2022-05-10T09:54:21.450640Z",
     "iopub.status.idle": "2022-05-10T09:54:21.453288Z",
     "shell.execute_reply": "2022-05-10T09:54:21.452887Z",
     "shell.execute_reply.started": "2022-05-09T15:10:57.564513Z"
    },
    "papermill": {
     "duration": 0.050708,
     "end_time": "2022-05-10T09:54:21.453400",
     "exception": false,
     "start_time": "2022-05-10T09:54:21.402692",
     "status": "completed"
    },
    "tags": []
   },
   "outputs": [],
   "source": [
    "def resample(image, ref_image):\n",
    "\n",
    "    resampler = sitk.ResampleImageFilter()\n",
    "    resampler.SetReferenceImage(ref_image)\n",
    "    resampler.SetInterpolator(sitk.sitkLinear)\n",
    "    \n",
    "    resampler.SetTransform(sitk.AffineTransform(image.GetDimension()))\n",
    "\n",
    "    resampler.SetOutputSpacing(ref_image.GetSpacing())\n",
    "\n",
    "    resampler.SetSize(ref_image.GetSize())\n",
    "\n",
    "    resampler.SetOutputDirection(ref_image.GetDirection())\n",
    "\n",
    "    resampler.SetOutputOrigin(ref_image.GetOrigin())\n",
    "\n",
    "    resampler.SetDefaultPixelValue(image.GetPixelIDValue())\n",
    "\n",
    "    resamped_image = resampler.Execute(image)\n",
    "    \n",
    "    return resamped_image"
   ]
  },
  {
   "cell_type": "code",
   "execution_count": 6,
   "id": "ccf05602",
   "metadata": {
    "execution": {
     "iopub.execute_input": "2022-05-10T09:54:21.537735Z",
     "iopub.status.busy": "2022-05-10T09:54:21.536934Z",
     "iopub.status.idle": "2022-05-10T09:54:21.539533Z",
     "shell.execute_reply": "2022-05-10T09:54:21.539141Z",
     "shell.execute_reply.started": "2022-05-09T15:10:57.575802Z"
    },
    "papermill": {
     "duration": 0.046446,
     "end_time": "2022-05-10T09:54:21.539643",
     "exception": false,
     "start_time": "2022-05-10T09:54:21.493197",
     "status": "completed"
    },
    "tags": []
   },
   "outputs": [],
   "source": [
    "def normalize(data):\n",
    "    return (data - np.min(data)) / (np.max(data) - np.min(data))"
   ]
  },
  {
   "cell_type": "code",
   "execution_count": 7,
   "id": "3f4e4760",
   "metadata": {
    "execution": {
     "iopub.execute_input": "2022-05-10T09:54:21.626338Z",
     "iopub.status.busy": "2022-05-10T09:54:21.625748Z",
     "iopub.status.idle": "2022-05-10T09:54:21.628753Z",
     "shell.execute_reply": "2022-05-10T09:54:21.629160Z",
     "shell.execute_reply.started": "2022-05-09T15:10:57.586224Z"
    },
    "papermill": {
     "duration": 0.049865,
     "end_time": "2022-05-10T09:54:21.629296",
     "exception": false,
     "start_time": "2022-05-10T09:54:21.579431",
     "status": "completed"
    },
    "tags": []
   },
   "outputs": [
    {
     "name": "stdout",
     "output_type": "stream",
     "text": [
      "CPU times: user 4 µs, sys: 0 ns, total: 4 µs\n",
      "Wall time: 6.91 µs\n"
     ]
    }
   ],
   "source": [
    "%%time\n",
    "def get_img(index):\n",
    "    filenamesDICOM = reader.GetGDCMSeriesFileNames(f'{train_path}/{train_dirs[index]}/T1w')\n",
    "    reader.SetFileNames(filenamesDICOM)\n",
    "    t1_sitk = reader.Execute()\n",
    "\n",
    "    filenamesDICOM = reader.GetGDCMSeriesFileNames(f'{train_path}/{train_dirs[index]}/FLAIR')\n",
    "    reader.SetFileNames(filenamesDICOM)\n",
    "    flair_sitk = reader.Execute()\n",
    "\n",
    "    filenamesDICOM = reader.GetGDCMSeriesFileNames(f'{train_path}/{train_dirs[index]}/T1wCE')\n",
    "    reader.SetFileNames(filenamesDICOM)\n",
    "    t1wce_sitk = reader.Execute()\n",
    "\n",
    "    flair_resampled = resample(flair_sitk, t1_sitk) # resample de las dos modalidsdes a la primera : T1w\n",
    "    t1wce_resampled = resample(t1wce_sitk, t1_sitk)\n",
    "\n",
    "    t1_sitk_array = normalize(sitk.GetArrayFromImage(t1_sitk))\n",
    "    flair_resampled_array = normalize(sitk.GetArrayFromImage(flair_resampled))\n",
    "    t1wce_resampled_array = normalize(sitk.GetArrayFromImage(t1wce_resampled))\n",
    "\n",
    "    stacked = np.stack([t1_sitk_array, flair_resampled_array, t1wce_resampled_array])\n",
    "\n",
    "    to_rgb = stacked[:,t1_sitk_array.shape[0]//2,:,:].transpose(1,2,0)\n",
    "    im = Image.fromarray((to_rgb * 255).astype(np.uint8))\n",
    "    return im"
   ]
  },
  {
   "cell_type": "markdown",
   "id": "6e2fea38",
   "metadata": {
    "papermill": {
     "duration": 0.039407,
     "end_time": "2022-05-10T09:54:21.708571",
     "exception": false,
     "start_time": "2022-05-10T09:54:21.669164",
     "status": "completed"
    },
    "tags": []
   },
   "source": [
    "## Model UNET : Segmentación\n",
    "Importamos el modelo ya preentrenado que realizará la segmentación de los tumores."
   ]
  },
  {
   "cell_type": "code",
   "execution_count": 8,
   "id": "e24bf306",
   "metadata": {
    "execution": {
     "iopub.execute_input": "2022-05-10T09:54:21.792822Z",
     "iopub.status.busy": "2022-05-10T09:54:21.791995Z",
     "iopub.status.idle": "2022-05-10T09:54:27.730965Z",
     "shell.execute_reply": "2022-05-10T09:54:27.730434Z",
     "shell.execute_reply.started": "2022-05-09T15:10:57.605147Z"
    },
    "papermill": {
     "duration": 5.982891,
     "end_time": "2022-05-10T09:54:27.731092",
     "exception": false,
     "start_time": "2022-05-10T09:54:21.748201",
     "status": "completed"
    },
    "tags": []
   },
   "outputs": [
    {
     "name": "stderr",
     "output_type": "stream",
     "text": [
      "Downloading: \"https://github.com/mateuszbuda/brain-segmentation-pytorch/archive/master.zip\" to /root/.cache/torch/hub/master.zip\n",
      "Downloading: \"https://github.com/mateuszbuda/brain-segmentation-pytorch/releases/download/v1.0/unet-e012d006.pt\" to /root/.cache/torch/hub/checkpoints/unet-e012d006.pt\n"
     ]
    }
   ],
   "source": [
    "model_unet = torch.hub.load('mateuszbuda/brain-segmentation-pytorch', 'unet',\n",
    "    in_channels=3, out_channels=1, init_features=32, pretrained=True)    # este modelo ya esta entrenado"
   ]
  },
  {
   "cell_type": "markdown",
   "id": "fa1db1d0",
   "metadata": {
    "papermill": {
     "duration": 0.040406,
     "end_time": "2022-05-10T09:54:27.812495",
     "exception": false,
     "start_time": "2022-05-10T09:54:27.772089",
     "status": "completed"
    },
    "tags": []
   },
   "source": [
    "## Extracción de características\n",
    "\n",
    "Vamos a utilizar los siguientes métodos  de extracción de características : \n",
    "\n",
    "* `firstorder.RadiomicsFirstOrder`\n",
    "* `shape.RadiomicsShape`\n",
    "* `glcm.RadiomicsGLCM`\n",
    "\n",
    "iteraremos para 300 imagenes y coleccionaremos todas las características en un data frame"
   ]
  },
  {
   "cell_type": "code",
   "execution_count": 9,
   "id": "3e0611c6",
   "metadata": {
    "execution": {
     "iopub.execute_input": "2022-05-10T09:54:27.904708Z",
     "iopub.status.busy": "2022-05-10T09:54:27.903974Z",
     "iopub.status.idle": "2022-05-10T10:17:59.465552Z",
     "shell.execute_reply": "2022-05-10T10:17:59.464883Z",
     "shell.execute_reply.started": "2022-05-09T15:10:57.747187Z"
    },
    "papermill": {
     "duration": 1411.613222,
     "end_time": "2022-05-10T10:17:59.466395",
     "exception": false,
     "start_time": "2022-05-10T09:54:27.853173",
     "status": "completed"
    },
    "tags": []
   },
   "outputs": [
    {
     "name": "stdout",
     "output_type": "stream",
     "text": [
      "Reading image  0\n"
     ]
    },
    {
     "name": "stderr",
     "output_type": "stream",
     "text": [
      "GLCM is symmetrical, therefore Sum Average = 2 * Joint Average, only 1 needs to be calculated\n"
     ]
    },
    {
     "name": "stdout",
     "output_type": "stream",
     "text": [
      "Reading image  1\n"
     ]
    },
    {
     "name": "stderr",
     "output_type": "stream",
     "text": [
      "GLCM is symmetrical, therefore Sum Average = 2 * Joint Average, only 1 needs to be calculated\n"
     ]
    },
    {
     "name": "stdout",
     "output_type": "stream",
     "text": [
      "Reading image  2\n"
     ]
    },
    {
     "name": "stderr",
     "output_type": "stream",
     "text": [
      "GLCM is symmetrical, therefore Sum Average = 2 * Joint Average, only 1 needs to be calculated\n"
     ]
    },
    {
     "name": "stdout",
     "output_type": "stream",
     "text": [
      "Reading image  3\n"
     ]
    },
    {
     "name": "stderr",
     "output_type": "stream",
     "text": [
      "GLCM is symmetrical, therefore Sum Average = 2 * Joint Average, only 1 needs to be calculated\n"
     ]
    },
    {
     "name": "stdout",
     "output_type": "stream",
     "text": [
      "Reading image  4\n"
     ]
    },
    {
     "name": "stderr",
     "output_type": "stream",
     "text": [
      "GLCM is symmetrical, therefore Sum Average = 2 * Joint Average, only 1 needs to be calculated\n"
     ]
    },
    {
     "name": "stdout",
     "output_type": "stream",
     "text": [
      "Reading image  5\n"
     ]
    },
    {
     "name": "stderr",
     "output_type": "stream",
     "text": [
      "GLCM is symmetrical, therefore Sum Average = 2 * Joint Average, only 1 needs to be calculated\n"
     ]
    },
    {
     "name": "stdout",
     "output_type": "stream",
     "text": [
      "Reading image  6\n"
     ]
    },
    {
     "name": "stderr",
     "output_type": "stream",
     "text": [
      "GLCM is symmetrical, therefore Sum Average = 2 * Joint Average, only 1 needs to be calculated\n"
     ]
    },
    {
     "name": "stdout",
     "output_type": "stream",
     "text": [
      "Reading image  7\n"
     ]
    },
    {
     "name": "stderr",
     "output_type": "stream",
     "text": [
      "GLCM is symmetrical, therefore Sum Average = 2 * Joint Average, only 1 needs to be calculated\n"
     ]
    },
    {
     "name": "stdout",
     "output_type": "stream",
     "text": [
      "Reading image  8\n"
     ]
    },
    {
     "name": "stderr",
     "output_type": "stream",
     "text": [
      "GLCM is symmetrical, therefore Sum Average = 2 * Joint Average, only 1 needs to be calculated\n"
     ]
    },
    {
     "name": "stdout",
     "output_type": "stream",
     "text": [
      "Reading image  9\n"
     ]
    },
    {
     "name": "stderr",
     "output_type": "stream",
     "text": [
      "GLCM is symmetrical, therefore Sum Average = 2 * Joint Average, only 1 needs to be calculated\n"
     ]
    },
    {
     "name": "stdout",
     "output_type": "stream",
     "text": [
      "Reading image  10\n"
     ]
    },
    {
     "name": "stderr",
     "output_type": "stream",
     "text": [
      "GLCM is symmetrical, therefore Sum Average = 2 * Joint Average, only 1 needs to be calculated\n"
     ]
    },
    {
     "name": "stdout",
     "output_type": "stream",
     "text": [
      "Reading image  11\n"
     ]
    },
    {
     "name": "stderr",
     "output_type": "stream",
     "text": [
      "GLCM is symmetrical, therefore Sum Average = 2 * Joint Average, only 1 needs to be calculated\n"
     ]
    },
    {
     "name": "stdout",
     "output_type": "stream",
     "text": [
      "Reading image  12\n"
     ]
    },
    {
     "name": "stderr",
     "output_type": "stream",
     "text": [
      "GLCM is symmetrical, therefore Sum Average = 2 * Joint Average, only 1 needs to be calculated\n"
     ]
    },
    {
     "name": "stdout",
     "output_type": "stream",
     "text": [
      "Reading image  13\n"
     ]
    },
    {
     "name": "stderr",
     "output_type": "stream",
     "text": [
      "GLCM is symmetrical, therefore Sum Average = 2 * Joint Average, only 1 needs to be calculated\n"
     ]
    },
    {
     "name": "stdout",
     "output_type": "stream",
     "text": [
      "Reading image  14\n"
     ]
    },
    {
     "name": "stderr",
     "output_type": "stream",
     "text": [
      "GLCM is symmetrical, therefore Sum Average = 2 * Joint Average, only 1 needs to be calculated\n"
     ]
    },
    {
     "name": "stdout",
     "output_type": "stream",
     "text": [
      "Reading image  15\n"
     ]
    },
    {
     "name": "stderr",
     "output_type": "stream",
     "text": [
      "GLCM is symmetrical, therefore Sum Average = 2 * Joint Average, only 1 needs to be calculated\n"
     ]
    },
    {
     "name": "stdout",
     "output_type": "stream",
     "text": [
      "Reading image  16\n"
     ]
    },
    {
     "name": "stderr",
     "output_type": "stream",
     "text": [
      "GLCM is symmetrical, therefore Sum Average = 2 * Joint Average, only 1 needs to be calculated\n"
     ]
    },
    {
     "name": "stdout",
     "output_type": "stream",
     "text": [
      "Reading image  17\n"
     ]
    },
    {
     "name": "stderr",
     "output_type": "stream",
     "text": [
      "GLCM is symmetrical, therefore Sum Average = 2 * Joint Average, only 1 needs to be calculated\n"
     ]
    },
    {
     "name": "stdout",
     "output_type": "stream",
     "text": [
      "Reading image  18\n"
     ]
    },
    {
     "name": "stderr",
     "output_type": "stream",
     "text": [
      "GLCM is symmetrical, therefore Sum Average = 2 * Joint Average, only 1 needs to be calculated\n"
     ]
    },
    {
     "name": "stdout",
     "output_type": "stream",
     "text": [
      "Reading image  19\n"
     ]
    },
    {
     "name": "stderr",
     "output_type": "stream",
     "text": [
      "GLCM is symmetrical, therefore Sum Average = 2 * Joint Average, only 1 needs to be calculated\n"
     ]
    },
    {
     "name": "stdout",
     "output_type": "stream",
     "text": [
      "Reading image  20\n"
     ]
    },
    {
     "name": "stderr",
     "output_type": "stream",
     "text": [
      "GLCM is symmetrical, therefore Sum Average = 2 * Joint Average, only 1 needs to be calculated\n"
     ]
    },
    {
     "name": "stdout",
     "output_type": "stream",
     "text": [
      "Reading image  21\n"
     ]
    },
    {
     "name": "stderr",
     "output_type": "stream",
     "text": [
      "GLCM is symmetrical, therefore Sum Average = 2 * Joint Average, only 1 needs to be calculated\n"
     ]
    },
    {
     "name": "stdout",
     "output_type": "stream",
     "text": [
      "Reading image  22\n"
     ]
    },
    {
     "name": "stderr",
     "output_type": "stream",
     "text": [
      "GLCM is symmetrical, therefore Sum Average = 2 * Joint Average, only 1 needs to be calculated\n"
     ]
    },
    {
     "name": "stdout",
     "output_type": "stream",
     "text": [
      "Reading image  23\n"
     ]
    },
    {
     "name": "stderr",
     "output_type": "stream",
     "text": [
      "GLCM is symmetrical, therefore Sum Average = 2 * Joint Average, only 1 needs to be calculated\n"
     ]
    },
    {
     "name": "stdout",
     "output_type": "stream",
     "text": [
      "Reading image  24\n"
     ]
    },
    {
     "name": "stderr",
     "output_type": "stream",
     "text": [
      "GLCM is symmetrical, therefore Sum Average = 2 * Joint Average, only 1 needs to be calculated\n"
     ]
    },
    {
     "name": "stdout",
     "output_type": "stream",
     "text": [
      "Reading image  25\n"
     ]
    },
    {
     "name": "stderr",
     "output_type": "stream",
     "text": [
      "GLCM is symmetrical, therefore Sum Average = 2 * Joint Average, only 1 needs to be calculated\n"
     ]
    },
    {
     "name": "stdout",
     "output_type": "stream",
     "text": [
      "Reading image  26\n"
     ]
    },
    {
     "name": "stderr",
     "output_type": "stream",
     "text": [
      "GLCM is symmetrical, therefore Sum Average = 2 * Joint Average, only 1 needs to be calculated\n"
     ]
    },
    {
     "name": "stdout",
     "output_type": "stream",
     "text": [
      "Reading image  27\n"
     ]
    },
    {
     "name": "stderr",
     "output_type": "stream",
     "text": [
      "GLCM is symmetrical, therefore Sum Average = 2 * Joint Average, only 1 needs to be calculated\n"
     ]
    },
    {
     "name": "stdout",
     "output_type": "stream",
     "text": [
      "Reading image  28\n"
     ]
    },
    {
     "name": "stderr",
     "output_type": "stream",
     "text": [
      "GLCM is symmetrical, therefore Sum Average = 2 * Joint Average, only 1 needs to be calculated\n"
     ]
    },
    {
     "name": "stdout",
     "output_type": "stream",
     "text": [
      "Reading image  29\n"
     ]
    },
    {
     "name": "stderr",
     "output_type": "stream",
     "text": [
      "GLCM is symmetrical, therefore Sum Average = 2 * Joint Average, only 1 needs to be calculated\n"
     ]
    },
    {
     "name": "stdout",
     "output_type": "stream",
     "text": [
      "Reading image  30\n"
     ]
    },
    {
     "name": "stderr",
     "output_type": "stream",
     "text": [
      "GLCM is symmetrical, therefore Sum Average = 2 * Joint Average, only 1 needs to be calculated\n"
     ]
    },
    {
     "name": "stdout",
     "output_type": "stream",
     "text": [
      "Reading image  31\n"
     ]
    },
    {
     "name": "stderr",
     "output_type": "stream",
     "text": [
      "GLCM is symmetrical, therefore Sum Average = 2 * Joint Average, only 1 needs to be calculated\n"
     ]
    },
    {
     "name": "stdout",
     "output_type": "stream",
     "text": [
      "Reading image  32\n"
     ]
    },
    {
     "name": "stderr",
     "output_type": "stream",
     "text": [
      "GLCM is symmetrical, therefore Sum Average = 2 * Joint Average, only 1 needs to be calculated\n"
     ]
    },
    {
     "name": "stdout",
     "output_type": "stream",
     "text": [
      "Reading image  33\n"
     ]
    },
    {
     "name": "stderr",
     "output_type": "stream",
     "text": [
      "GLCM is symmetrical, therefore Sum Average = 2 * Joint Average, only 1 needs to be calculated\n"
     ]
    },
    {
     "name": "stdout",
     "output_type": "stream",
     "text": [
      "Reading image  34\n"
     ]
    },
    {
     "name": "stderr",
     "output_type": "stream",
     "text": [
      "GLCM is symmetrical, therefore Sum Average = 2 * Joint Average, only 1 needs to be calculated\n"
     ]
    },
    {
     "name": "stdout",
     "output_type": "stream",
     "text": [
      "Reading image  35\n"
     ]
    },
    {
     "name": "stderr",
     "output_type": "stream",
     "text": [
      "GLCM is symmetrical, therefore Sum Average = 2 * Joint Average, only 1 needs to be calculated\n"
     ]
    },
    {
     "name": "stdout",
     "output_type": "stream",
     "text": [
      "Reading image  36\n"
     ]
    },
    {
     "name": "stderr",
     "output_type": "stream",
     "text": [
      "GLCM is symmetrical, therefore Sum Average = 2 * Joint Average, only 1 needs to be calculated\n"
     ]
    },
    {
     "name": "stdout",
     "output_type": "stream",
     "text": [
      "Reading image  37\n"
     ]
    },
    {
     "name": "stderr",
     "output_type": "stream",
     "text": [
      "GLCM is symmetrical, therefore Sum Average = 2 * Joint Average, only 1 needs to be calculated\n"
     ]
    },
    {
     "name": "stdout",
     "output_type": "stream",
     "text": [
      "Reading image  38\n"
     ]
    },
    {
     "name": "stderr",
     "output_type": "stream",
     "text": [
      "GLCM is symmetrical, therefore Sum Average = 2 * Joint Average, only 1 needs to be calculated\n"
     ]
    },
    {
     "name": "stdout",
     "output_type": "stream",
     "text": [
      "Reading image  39\n"
     ]
    },
    {
     "name": "stderr",
     "output_type": "stream",
     "text": [
      "GLCM is symmetrical, therefore Sum Average = 2 * Joint Average, only 1 needs to be calculated\n"
     ]
    },
    {
     "name": "stdout",
     "output_type": "stream",
     "text": [
      "Reading image  40\n"
     ]
    },
    {
     "name": "stderr",
     "output_type": "stream",
     "text": [
      "GLCM is symmetrical, therefore Sum Average = 2 * Joint Average, only 1 needs to be calculated\n"
     ]
    },
    {
     "name": "stdout",
     "output_type": "stream",
     "text": [
      "Reading image  41\n"
     ]
    },
    {
     "name": "stderr",
     "output_type": "stream",
     "text": [
      "GLCM is symmetrical, therefore Sum Average = 2 * Joint Average, only 1 needs to be calculated\n"
     ]
    },
    {
     "name": "stdout",
     "output_type": "stream",
     "text": [
      "Reading image  42\n"
     ]
    },
    {
     "name": "stderr",
     "output_type": "stream",
     "text": [
      "GLCM is symmetrical, therefore Sum Average = 2 * Joint Average, only 1 needs to be calculated\n"
     ]
    },
    {
     "name": "stdout",
     "output_type": "stream",
     "text": [
      "Reading image  43\n"
     ]
    },
    {
     "name": "stderr",
     "output_type": "stream",
     "text": [
      "GLCM is symmetrical, therefore Sum Average = 2 * Joint Average, only 1 needs to be calculated\n"
     ]
    },
    {
     "name": "stdout",
     "output_type": "stream",
     "text": [
      "Reading image  44\n"
     ]
    },
    {
     "name": "stderr",
     "output_type": "stream",
     "text": [
      "GLCM is symmetrical, therefore Sum Average = 2 * Joint Average, only 1 needs to be calculated\n"
     ]
    },
    {
     "name": "stdout",
     "output_type": "stream",
     "text": [
      "Reading image  45\n"
     ]
    },
    {
     "name": "stderr",
     "output_type": "stream",
     "text": [
      "GLCM is symmetrical, therefore Sum Average = 2 * Joint Average, only 1 needs to be calculated\n"
     ]
    },
    {
     "name": "stdout",
     "output_type": "stream",
     "text": [
      "Reading image  46\n"
     ]
    },
    {
     "name": "stderr",
     "output_type": "stream",
     "text": [
      "GLCM is symmetrical, therefore Sum Average = 2 * Joint Average, only 1 needs to be calculated\n"
     ]
    },
    {
     "name": "stdout",
     "output_type": "stream",
     "text": [
      "Reading image  47\n"
     ]
    },
    {
     "name": "stderr",
     "output_type": "stream",
     "text": [
      "GLCM is symmetrical, therefore Sum Average = 2 * Joint Average, only 1 needs to be calculated\n"
     ]
    },
    {
     "name": "stdout",
     "output_type": "stream",
     "text": [
      "Reading image  48\n"
     ]
    },
    {
     "name": "stderr",
     "output_type": "stream",
     "text": [
      "GLCM is symmetrical, therefore Sum Average = 2 * Joint Average, only 1 needs to be calculated\n"
     ]
    },
    {
     "name": "stdout",
     "output_type": "stream",
     "text": [
      "Reading image  49\n"
     ]
    },
    {
     "name": "stderr",
     "output_type": "stream",
     "text": [
      "GLCM is symmetrical, therefore Sum Average = 2 * Joint Average, only 1 needs to be calculated\n"
     ]
    },
    {
     "name": "stdout",
     "output_type": "stream",
     "text": [
      "Reading image  50\n"
     ]
    },
    {
     "name": "stderr",
     "output_type": "stream",
     "text": [
      "GLCM is symmetrical, therefore Sum Average = 2 * Joint Average, only 1 needs to be calculated\n"
     ]
    },
    {
     "name": "stdout",
     "output_type": "stream",
     "text": [
      "Reading image  51\n"
     ]
    },
    {
     "name": "stderr",
     "output_type": "stream",
     "text": [
      "GLCM is symmetrical, therefore Sum Average = 2 * Joint Average, only 1 needs to be calculated\n"
     ]
    },
    {
     "name": "stdout",
     "output_type": "stream",
     "text": [
      "Reading image  52\n"
     ]
    },
    {
     "name": "stderr",
     "output_type": "stream",
     "text": [
      "GLCM is symmetrical, therefore Sum Average = 2 * Joint Average, only 1 needs to be calculated\n"
     ]
    },
    {
     "name": "stdout",
     "output_type": "stream",
     "text": [
      "Reading image  53\n"
     ]
    },
    {
     "name": "stderr",
     "output_type": "stream",
     "text": [
      "GLCM is symmetrical, therefore Sum Average = 2 * Joint Average, only 1 needs to be calculated\n"
     ]
    },
    {
     "name": "stdout",
     "output_type": "stream",
     "text": [
      "Reading image  54\n"
     ]
    },
    {
     "name": "stderr",
     "output_type": "stream",
     "text": [
      "GLCM is symmetrical, therefore Sum Average = 2 * Joint Average, only 1 needs to be calculated\n"
     ]
    },
    {
     "name": "stdout",
     "output_type": "stream",
     "text": [
      "Reading image  55\n"
     ]
    },
    {
     "name": "stderr",
     "output_type": "stream",
     "text": [
      "GLCM is symmetrical, therefore Sum Average = 2 * Joint Average, only 1 needs to be calculated\n"
     ]
    },
    {
     "name": "stdout",
     "output_type": "stream",
     "text": [
      "Reading image  56\n"
     ]
    },
    {
     "name": "stderr",
     "output_type": "stream",
     "text": [
      "GLCM is symmetrical, therefore Sum Average = 2 * Joint Average, only 1 needs to be calculated\n"
     ]
    },
    {
     "name": "stdout",
     "output_type": "stream",
     "text": [
      "Reading image  57\n"
     ]
    },
    {
     "name": "stderr",
     "output_type": "stream",
     "text": [
      "GLCM is symmetrical, therefore Sum Average = 2 * Joint Average, only 1 needs to be calculated\n"
     ]
    },
    {
     "name": "stdout",
     "output_type": "stream",
     "text": [
      "Reading image  58\n"
     ]
    },
    {
     "name": "stderr",
     "output_type": "stream",
     "text": [
      "GLCM is symmetrical, therefore Sum Average = 2 * Joint Average, only 1 needs to be calculated\n"
     ]
    },
    {
     "name": "stdout",
     "output_type": "stream",
     "text": [
      "Reading image  59\n"
     ]
    },
    {
     "name": "stderr",
     "output_type": "stream",
     "text": [
      "GLCM is symmetrical, therefore Sum Average = 2 * Joint Average, only 1 needs to be calculated\n"
     ]
    },
    {
     "name": "stdout",
     "output_type": "stream",
     "text": [
      "Reading image  60\n"
     ]
    },
    {
     "name": "stderr",
     "output_type": "stream",
     "text": [
      "GLCM is symmetrical, therefore Sum Average = 2 * Joint Average, only 1 needs to be calculated\n"
     ]
    },
    {
     "name": "stdout",
     "output_type": "stream",
     "text": [
      "Reading image  61\n"
     ]
    },
    {
     "name": "stderr",
     "output_type": "stream",
     "text": [
      "GLCM is symmetrical, therefore Sum Average = 2 * Joint Average, only 1 needs to be calculated\n"
     ]
    },
    {
     "name": "stdout",
     "output_type": "stream",
     "text": [
      "Reading image  62\n"
     ]
    },
    {
     "name": "stderr",
     "output_type": "stream",
     "text": [
      "GLCM is symmetrical, therefore Sum Average = 2 * Joint Average, only 1 needs to be calculated\n"
     ]
    },
    {
     "name": "stdout",
     "output_type": "stream",
     "text": [
      "Reading image  63\n"
     ]
    },
    {
     "name": "stderr",
     "output_type": "stream",
     "text": [
      "GLCM is symmetrical, therefore Sum Average = 2 * Joint Average, only 1 needs to be calculated\n"
     ]
    },
    {
     "name": "stdout",
     "output_type": "stream",
     "text": [
      "Reading image  64\n"
     ]
    },
    {
     "name": "stderr",
     "output_type": "stream",
     "text": [
      "GLCM is symmetrical, therefore Sum Average = 2 * Joint Average, only 1 needs to be calculated\n"
     ]
    },
    {
     "name": "stdout",
     "output_type": "stream",
     "text": [
      "Reading image  65\n"
     ]
    },
    {
     "name": "stderr",
     "output_type": "stream",
     "text": [
      "GLCM is symmetrical, therefore Sum Average = 2 * Joint Average, only 1 needs to be calculated\n"
     ]
    },
    {
     "name": "stdout",
     "output_type": "stream",
     "text": [
      "Reading image  66\n"
     ]
    },
    {
     "name": "stderr",
     "output_type": "stream",
     "text": [
      "GLCM is symmetrical, therefore Sum Average = 2 * Joint Average, only 1 needs to be calculated\n"
     ]
    },
    {
     "name": "stdout",
     "output_type": "stream",
     "text": [
      "Reading image  67\n"
     ]
    },
    {
     "name": "stderr",
     "output_type": "stream",
     "text": [
      "GLCM is symmetrical, therefore Sum Average = 2 * Joint Average, only 1 needs to be calculated\n"
     ]
    },
    {
     "name": "stdout",
     "output_type": "stream",
     "text": [
      "Reading image  68\n"
     ]
    },
    {
     "name": "stderr",
     "output_type": "stream",
     "text": [
      "GLCM is symmetrical, therefore Sum Average = 2 * Joint Average, only 1 needs to be calculated\n"
     ]
    },
    {
     "name": "stdout",
     "output_type": "stream",
     "text": [
      "Reading image  69\n"
     ]
    },
    {
     "name": "stderr",
     "output_type": "stream",
     "text": [
      "GLCM is symmetrical, therefore Sum Average = 2 * Joint Average, only 1 needs to be calculated\n"
     ]
    },
    {
     "name": "stdout",
     "output_type": "stream",
     "text": [
      "Reading image  70\n"
     ]
    },
    {
     "name": "stderr",
     "output_type": "stream",
     "text": [
      "GLCM is symmetrical, therefore Sum Average = 2 * Joint Average, only 1 needs to be calculated\n"
     ]
    },
    {
     "name": "stdout",
     "output_type": "stream",
     "text": [
      "Reading image  71\n"
     ]
    },
    {
     "name": "stderr",
     "output_type": "stream",
     "text": [
      "GLCM is symmetrical, therefore Sum Average = 2 * Joint Average, only 1 needs to be calculated\n"
     ]
    },
    {
     "name": "stdout",
     "output_type": "stream",
     "text": [
      "Reading image  72\n"
     ]
    },
    {
     "name": "stderr",
     "output_type": "stream",
     "text": [
      "GLCM is symmetrical, therefore Sum Average = 2 * Joint Average, only 1 needs to be calculated\n"
     ]
    },
    {
     "name": "stdout",
     "output_type": "stream",
     "text": [
      "Reading image  73\n"
     ]
    },
    {
     "name": "stderr",
     "output_type": "stream",
     "text": [
      "GLCM is symmetrical, therefore Sum Average = 2 * Joint Average, only 1 needs to be calculated\n"
     ]
    },
    {
     "name": "stdout",
     "output_type": "stream",
     "text": [
      "Reading image  74\n"
     ]
    },
    {
     "name": "stderr",
     "output_type": "stream",
     "text": [
      "GLCM is symmetrical, therefore Sum Average = 2 * Joint Average, only 1 needs to be calculated\n"
     ]
    },
    {
     "name": "stdout",
     "output_type": "stream",
     "text": [
      "Reading image  75\n"
     ]
    },
    {
     "name": "stderr",
     "output_type": "stream",
     "text": [
      "GLCM is symmetrical, therefore Sum Average = 2 * Joint Average, only 1 needs to be calculated\n"
     ]
    },
    {
     "name": "stdout",
     "output_type": "stream",
     "text": [
      "Reading image  76\n"
     ]
    },
    {
     "name": "stderr",
     "output_type": "stream",
     "text": [
      "GLCM is symmetrical, therefore Sum Average = 2 * Joint Average, only 1 needs to be calculated\n"
     ]
    },
    {
     "name": "stdout",
     "output_type": "stream",
     "text": [
      "Reading image  77\n"
     ]
    },
    {
     "name": "stderr",
     "output_type": "stream",
     "text": [
      "GLCM is symmetrical, therefore Sum Average = 2 * Joint Average, only 1 needs to be calculated\n"
     ]
    },
    {
     "name": "stdout",
     "output_type": "stream",
     "text": [
      "Reading image  78\n"
     ]
    },
    {
     "name": "stderr",
     "output_type": "stream",
     "text": [
      "GLCM is symmetrical, therefore Sum Average = 2 * Joint Average, only 1 needs to be calculated\n"
     ]
    },
    {
     "name": "stdout",
     "output_type": "stream",
     "text": [
      "Reading image  79\n"
     ]
    },
    {
     "name": "stderr",
     "output_type": "stream",
     "text": [
      "GLCM is symmetrical, therefore Sum Average = 2 * Joint Average, only 1 needs to be calculated\n"
     ]
    },
    {
     "name": "stdout",
     "output_type": "stream",
     "text": [
      "Reading image  80\n"
     ]
    },
    {
     "name": "stderr",
     "output_type": "stream",
     "text": [
      "GLCM is symmetrical, therefore Sum Average = 2 * Joint Average, only 1 needs to be calculated\n"
     ]
    },
    {
     "name": "stdout",
     "output_type": "stream",
     "text": [
      "Reading image  81\n"
     ]
    },
    {
     "name": "stderr",
     "output_type": "stream",
     "text": [
      "/opt/conda/lib/python3.7/site-packages/ipykernel_launcher.py:2: RuntimeWarning: invalid value encountered in true_divide\n",
      "  \n",
      "GLCM is symmetrical, therefore Sum Average = 2 * Joint Average, only 1 needs to be calculated\n"
     ]
    },
    {
     "name": "stdout",
     "output_type": "stream",
     "text": [
      "Reading image  82\n"
     ]
    },
    {
     "name": "stderr",
     "output_type": "stream",
     "text": [
      "GLCM is symmetrical, therefore Sum Average = 2 * Joint Average, only 1 needs to be calculated\n"
     ]
    },
    {
     "name": "stdout",
     "output_type": "stream",
     "text": [
      "Reading image  83\n"
     ]
    },
    {
     "name": "stderr",
     "output_type": "stream",
     "text": [
      "GLCM is symmetrical, therefore Sum Average = 2 * Joint Average, only 1 needs to be calculated\n"
     ]
    },
    {
     "name": "stdout",
     "output_type": "stream",
     "text": [
      "Reading image  84\n"
     ]
    },
    {
     "name": "stderr",
     "output_type": "stream",
     "text": [
      "GLCM is symmetrical, therefore Sum Average = 2 * Joint Average, only 1 needs to be calculated\n"
     ]
    },
    {
     "name": "stdout",
     "output_type": "stream",
     "text": [
      "Reading image  85\n"
     ]
    },
    {
     "name": "stderr",
     "output_type": "stream",
     "text": [
      "GLCM is symmetrical, therefore Sum Average = 2 * Joint Average, only 1 needs to be calculated\n"
     ]
    },
    {
     "name": "stdout",
     "output_type": "stream",
     "text": [
      "Reading image  86\n"
     ]
    },
    {
     "name": "stderr",
     "output_type": "stream",
     "text": [
      "GLCM is symmetrical, therefore Sum Average = 2 * Joint Average, only 1 needs to be calculated\n"
     ]
    },
    {
     "name": "stdout",
     "output_type": "stream",
     "text": [
      "Reading image  87\n"
     ]
    },
    {
     "name": "stderr",
     "output_type": "stream",
     "text": [
      "GLCM is symmetrical, therefore Sum Average = 2 * Joint Average, only 1 needs to be calculated\n"
     ]
    },
    {
     "name": "stdout",
     "output_type": "stream",
     "text": [
      "Reading image  88\n"
     ]
    },
    {
     "name": "stderr",
     "output_type": "stream",
     "text": [
      "GLCM is symmetrical, therefore Sum Average = 2 * Joint Average, only 1 needs to be calculated\n"
     ]
    },
    {
     "name": "stdout",
     "output_type": "stream",
     "text": [
      "Reading image  89\n"
     ]
    },
    {
     "name": "stderr",
     "output_type": "stream",
     "text": [
      "GLCM is symmetrical, therefore Sum Average = 2 * Joint Average, only 1 needs to be calculated\n"
     ]
    },
    {
     "name": "stdout",
     "output_type": "stream",
     "text": [
      "Reading image  90\n"
     ]
    },
    {
     "name": "stderr",
     "output_type": "stream",
     "text": [
      "GLCM is symmetrical, therefore Sum Average = 2 * Joint Average, only 1 needs to be calculated\n"
     ]
    },
    {
     "name": "stdout",
     "output_type": "stream",
     "text": [
      "Reading image  91\n"
     ]
    },
    {
     "name": "stderr",
     "output_type": "stream",
     "text": [
      "GLCM is symmetrical, therefore Sum Average = 2 * Joint Average, only 1 needs to be calculated\n"
     ]
    },
    {
     "name": "stdout",
     "output_type": "stream",
     "text": [
      "Reading image  92\n"
     ]
    },
    {
     "name": "stderr",
     "output_type": "stream",
     "text": [
      "GLCM is symmetrical, therefore Sum Average = 2 * Joint Average, only 1 needs to be calculated\n"
     ]
    },
    {
     "name": "stdout",
     "output_type": "stream",
     "text": [
      "Reading image  93\n"
     ]
    },
    {
     "name": "stderr",
     "output_type": "stream",
     "text": [
      "GLCM is symmetrical, therefore Sum Average = 2 * Joint Average, only 1 needs to be calculated\n"
     ]
    },
    {
     "name": "stdout",
     "output_type": "stream",
     "text": [
      "Reading image  94\n"
     ]
    },
    {
     "name": "stderr",
     "output_type": "stream",
     "text": [
      "GLCM is symmetrical, therefore Sum Average = 2 * Joint Average, only 1 needs to be calculated\n"
     ]
    },
    {
     "name": "stdout",
     "output_type": "stream",
     "text": [
      "Reading image  95\n"
     ]
    },
    {
     "name": "stderr",
     "output_type": "stream",
     "text": [
      "GLCM is symmetrical, therefore Sum Average = 2 * Joint Average, only 1 needs to be calculated\n"
     ]
    },
    {
     "name": "stdout",
     "output_type": "stream",
     "text": [
      "Reading image  96\n"
     ]
    },
    {
     "name": "stderr",
     "output_type": "stream",
     "text": [
      "GLCM is symmetrical, therefore Sum Average = 2 * Joint Average, only 1 needs to be calculated\n"
     ]
    },
    {
     "name": "stdout",
     "output_type": "stream",
     "text": [
      "Reading image  97\n"
     ]
    },
    {
     "name": "stderr",
     "output_type": "stream",
     "text": [
      "GLCM is symmetrical, therefore Sum Average = 2 * Joint Average, only 1 needs to be calculated\n"
     ]
    },
    {
     "name": "stdout",
     "output_type": "stream",
     "text": [
      "Reading image  98\n"
     ]
    },
    {
     "name": "stderr",
     "output_type": "stream",
     "text": [
      "GLCM is symmetrical, therefore Sum Average = 2 * Joint Average, only 1 needs to be calculated\n"
     ]
    },
    {
     "name": "stdout",
     "output_type": "stream",
     "text": [
      "Reading image  99\n"
     ]
    },
    {
     "name": "stderr",
     "output_type": "stream",
     "text": [
      "GLCM is symmetrical, therefore Sum Average = 2 * Joint Average, only 1 needs to be calculated\n"
     ]
    },
    {
     "name": "stdout",
     "output_type": "stream",
     "text": [
      "Reading image  100\n"
     ]
    },
    {
     "name": "stderr",
     "output_type": "stream",
     "text": [
      "GLCM is symmetrical, therefore Sum Average = 2 * Joint Average, only 1 needs to be calculated\n"
     ]
    },
    {
     "name": "stdout",
     "output_type": "stream",
     "text": [
      "Reading image  101\n"
     ]
    },
    {
     "name": "stderr",
     "output_type": "stream",
     "text": [
      "GLCM is symmetrical, therefore Sum Average = 2 * Joint Average, only 1 needs to be calculated\n"
     ]
    },
    {
     "name": "stdout",
     "output_type": "stream",
     "text": [
      "Reading image  102\n"
     ]
    },
    {
     "name": "stderr",
     "output_type": "stream",
     "text": [
      "GLCM is symmetrical, therefore Sum Average = 2 * Joint Average, only 1 needs to be calculated\n"
     ]
    },
    {
     "name": "stdout",
     "output_type": "stream",
     "text": [
      "Reading image  103\n"
     ]
    },
    {
     "name": "stderr",
     "output_type": "stream",
     "text": [
      "GLCM is symmetrical, therefore Sum Average = 2 * Joint Average, only 1 needs to be calculated\n"
     ]
    },
    {
     "name": "stdout",
     "output_type": "stream",
     "text": [
      "Reading image  104\n"
     ]
    },
    {
     "name": "stderr",
     "output_type": "stream",
     "text": [
      "GLCM is symmetrical, therefore Sum Average = 2 * Joint Average, only 1 needs to be calculated\n"
     ]
    },
    {
     "name": "stdout",
     "output_type": "stream",
     "text": [
      "Reading image  105\n"
     ]
    },
    {
     "name": "stderr",
     "output_type": "stream",
     "text": [
      "GLCM is symmetrical, therefore Sum Average = 2 * Joint Average, only 1 needs to be calculated\n"
     ]
    },
    {
     "name": "stdout",
     "output_type": "stream",
     "text": [
      "Reading image  106\n"
     ]
    },
    {
     "name": "stderr",
     "output_type": "stream",
     "text": [
      "GLCM is symmetrical, therefore Sum Average = 2 * Joint Average, only 1 needs to be calculated\n"
     ]
    },
    {
     "name": "stdout",
     "output_type": "stream",
     "text": [
      "Reading image  107\n"
     ]
    },
    {
     "name": "stderr",
     "output_type": "stream",
     "text": [
      "GLCM is symmetrical, therefore Sum Average = 2 * Joint Average, only 1 needs to be calculated\n"
     ]
    },
    {
     "name": "stdout",
     "output_type": "stream",
     "text": [
      "Reading image  108\n"
     ]
    },
    {
     "name": "stderr",
     "output_type": "stream",
     "text": [
      "GLCM is symmetrical, therefore Sum Average = 2 * Joint Average, only 1 needs to be calculated\n"
     ]
    },
    {
     "name": "stdout",
     "output_type": "stream",
     "text": [
      "Reading image  109\n"
     ]
    },
    {
     "name": "stderr",
     "output_type": "stream",
     "text": [
      "GLCM is symmetrical, therefore Sum Average = 2 * Joint Average, only 1 needs to be calculated\n"
     ]
    },
    {
     "name": "stdout",
     "output_type": "stream",
     "text": [
      "Reading image  110\n"
     ]
    },
    {
     "name": "stderr",
     "output_type": "stream",
     "text": [
      "GLCM is symmetrical, therefore Sum Average = 2 * Joint Average, only 1 needs to be calculated\n"
     ]
    },
    {
     "name": "stdout",
     "output_type": "stream",
     "text": [
      "Reading image  111\n"
     ]
    },
    {
     "name": "stderr",
     "output_type": "stream",
     "text": [
      "GLCM is symmetrical, therefore Sum Average = 2 * Joint Average, only 1 needs to be calculated\n"
     ]
    },
    {
     "name": "stdout",
     "output_type": "stream",
     "text": [
      "Reading image  112\n"
     ]
    },
    {
     "name": "stderr",
     "output_type": "stream",
     "text": [
      "GLCM is symmetrical, therefore Sum Average = 2 * Joint Average, only 1 needs to be calculated\n"
     ]
    },
    {
     "name": "stdout",
     "output_type": "stream",
     "text": [
      "Reading image  113\n"
     ]
    },
    {
     "name": "stderr",
     "output_type": "stream",
     "text": [
      "GLCM is symmetrical, therefore Sum Average = 2 * Joint Average, only 1 needs to be calculated\n"
     ]
    },
    {
     "name": "stdout",
     "output_type": "stream",
     "text": [
      "Reading image  114\n"
     ]
    },
    {
     "name": "stderr",
     "output_type": "stream",
     "text": [
      "GLCM is symmetrical, therefore Sum Average = 2 * Joint Average, only 1 needs to be calculated\n"
     ]
    },
    {
     "name": "stdout",
     "output_type": "stream",
     "text": [
      "Reading image  115\n"
     ]
    },
    {
     "name": "stderr",
     "output_type": "stream",
     "text": [
      "GLCM is symmetrical, therefore Sum Average = 2 * Joint Average, only 1 needs to be calculated\n"
     ]
    },
    {
     "name": "stdout",
     "output_type": "stream",
     "text": [
      "Reading image  116\n"
     ]
    },
    {
     "name": "stderr",
     "output_type": "stream",
     "text": [
      "GLCM is symmetrical, therefore Sum Average = 2 * Joint Average, only 1 needs to be calculated\n"
     ]
    },
    {
     "name": "stdout",
     "output_type": "stream",
     "text": [
      "Reading image  117\n"
     ]
    },
    {
     "name": "stderr",
     "output_type": "stream",
     "text": [
      "GLCM is symmetrical, therefore Sum Average = 2 * Joint Average, only 1 needs to be calculated\n"
     ]
    },
    {
     "name": "stdout",
     "output_type": "stream",
     "text": [
      "Reading image  118\n"
     ]
    },
    {
     "name": "stderr",
     "output_type": "stream",
     "text": [
      "GLCM is symmetrical, therefore Sum Average = 2 * Joint Average, only 1 needs to be calculated\n"
     ]
    },
    {
     "name": "stdout",
     "output_type": "stream",
     "text": [
      "Reading image  119\n"
     ]
    },
    {
     "name": "stderr",
     "output_type": "stream",
     "text": [
      "GLCM is symmetrical, therefore Sum Average = 2 * Joint Average, only 1 needs to be calculated\n"
     ]
    },
    {
     "name": "stdout",
     "output_type": "stream",
     "text": [
      "Reading image  120\n"
     ]
    },
    {
     "name": "stderr",
     "output_type": "stream",
     "text": [
      "GLCM is symmetrical, therefore Sum Average = 2 * Joint Average, only 1 needs to be calculated\n"
     ]
    },
    {
     "name": "stdout",
     "output_type": "stream",
     "text": [
      "Reading image  121\n"
     ]
    },
    {
     "name": "stderr",
     "output_type": "stream",
     "text": [
      "GLCM is symmetrical, therefore Sum Average = 2 * Joint Average, only 1 needs to be calculated\n"
     ]
    },
    {
     "name": "stdout",
     "output_type": "stream",
     "text": [
      "Reading image  122\n"
     ]
    },
    {
     "name": "stderr",
     "output_type": "stream",
     "text": [
      "GLCM is symmetrical, therefore Sum Average = 2 * Joint Average, only 1 needs to be calculated\n"
     ]
    },
    {
     "name": "stdout",
     "output_type": "stream",
     "text": [
      "Reading image  123\n"
     ]
    },
    {
     "name": "stderr",
     "output_type": "stream",
     "text": [
      "GLCM is symmetrical, therefore Sum Average = 2 * Joint Average, only 1 needs to be calculated\n"
     ]
    },
    {
     "name": "stdout",
     "output_type": "stream",
     "text": [
      "Reading image  124\n"
     ]
    },
    {
     "name": "stderr",
     "output_type": "stream",
     "text": [
      "GLCM is symmetrical, therefore Sum Average = 2 * Joint Average, only 1 needs to be calculated\n"
     ]
    },
    {
     "name": "stdout",
     "output_type": "stream",
     "text": [
      "Reading image  125\n"
     ]
    },
    {
     "name": "stderr",
     "output_type": "stream",
     "text": [
      "GLCM is symmetrical, therefore Sum Average = 2 * Joint Average, only 1 needs to be calculated\n"
     ]
    },
    {
     "name": "stdout",
     "output_type": "stream",
     "text": [
      "Reading image  126\n"
     ]
    },
    {
     "name": "stderr",
     "output_type": "stream",
     "text": [
      "GLCM is symmetrical, therefore Sum Average = 2 * Joint Average, only 1 needs to be calculated\n"
     ]
    },
    {
     "name": "stdout",
     "output_type": "stream",
     "text": [
      "Reading image  127\n"
     ]
    },
    {
     "name": "stderr",
     "output_type": "stream",
     "text": [
      "GLCM is symmetrical, therefore Sum Average = 2 * Joint Average, only 1 needs to be calculated\n"
     ]
    },
    {
     "name": "stdout",
     "output_type": "stream",
     "text": [
      "Reading image  128\n"
     ]
    },
    {
     "name": "stderr",
     "output_type": "stream",
     "text": [
      "GLCM is symmetrical, therefore Sum Average = 2 * Joint Average, only 1 needs to be calculated\n"
     ]
    },
    {
     "name": "stdout",
     "output_type": "stream",
     "text": [
      "Reading image  129\n"
     ]
    },
    {
     "name": "stderr",
     "output_type": "stream",
     "text": [
      "GLCM is symmetrical, therefore Sum Average = 2 * Joint Average, only 1 needs to be calculated\n"
     ]
    },
    {
     "name": "stdout",
     "output_type": "stream",
     "text": [
      "Reading image  130\n"
     ]
    },
    {
     "name": "stderr",
     "output_type": "stream",
     "text": [
      "GLCM is symmetrical, therefore Sum Average = 2 * Joint Average, only 1 needs to be calculated\n"
     ]
    },
    {
     "name": "stdout",
     "output_type": "stream",
     "text": [
      "Reading image  131\n"
     ]
    },
    {
     "name": "stderr",
     "output_type": "stream",
     "text": [
      "GLCM is symmetrical, therefore Sum Average = 2 * Joint Average, only 1 needs to be calculated\n"
     ]
    },
    {
     "name": "stdout",
     "output_type": "stream",
     "text": [
      "Reading image  132\n"
     ]
    },
    {
     "name": "stderr",
     "output_type": "stream",
     "text": [
      "GLCM is symmetrical, therefore Sum Average = 2 * Joint Average, only 1 needs to be calculated\n"
     ]
    },
    {
     "name": "stdout",
     "output_type": "stream",
     "text": [
      "Reading image  133\n"
     ]
    },
    {
     "name": "stderr",
     "output_type": "stream",
     "text": [
      "GLCM is symmetrical, therefore Sum Average = 2 * Joint Average, only 1 needs to be calculated\n"
     ]
    },
    {
     "name": "stdout",
     "output_type": "stream",
     "text": [
      "Reading image  134\n"
     ]
    },
    {
     "name": "stderr",
     "output_type": "stream",
     "text": [
      "GLCM is symmetrical, therefore Sum Average = 2 * Joint Average, only 1 needs to be calculated\n"
     ]
    },
    {
     "name": "stdout",
     "output_type": "stream",
     "text": [
      "Reading image  135\n"
     ]
    },
    {
     "name": "stderr",
     "output_type": "stream",
     "text": [
      "GLCM is symmetrical, therefore Sum Average = 2 * Joint Average, only 1 needs to be calculated\n"
     ]
    },
    {
     "name": "stdout",
     "output_type": "stream",
     "text": [
      "Reading image  136\n"
     ]
    },
    {
     "name": "stderr",
     "output_type": "stream",
     "text": [
      "GLCM is symmetrical, therefore Sum Average = 2 * Joint Average, only 1 needs to be calculated\n"
     ]
    },
    {
     "name": "stdout",
     "output_type": "stream",
     "text": [
      "Reading image  137\n"
     ]
    },
    {
     "name": "stderr",
     "output_type": "stream",
     "text": [
      "GLCM is symmetrical, therefore Sum Average = 2 * Joint Average, only 1 needs to be calculated\n"
     ]
    },
    {
     "name": "stdout",
     "output_type": "stream",
     "text": [
      "Reading image  138\n"
     ]
    },
    {
     "name": "stderr",
     "output_type": "stream",
     "text": [
      "GLCM is symmetrical, therefore Sum Average = 2 * Joint Average, only 1 needs to be calculated\n"
     ]
    },
    {
     "name": "stdout",
     "output_type": "stream",
     "text": [
      "Reading image  139\n"
     ]
    },
    {
     "name": "stderr",
     "output_type": "stream",
     "text": [
      "GLCM is symmetrical, therefore Sum Average = 2 * Joint Average, only 1 needs to be calculated\n"
     ]
    },
    {
     "name": "stdout",
     "output_type": "stream",
     "text": [
      "Reading image  140\n"
     ]
    },
    {
     "name": "stderr",
     "output_type": "stream",
     "text": [
      "GLCM is symmetrical, therefore Sum Average = 2 * Joint Average, only 1 needs to be calculated\n"
     ]
    },
    {
     "name": "stdout",
     "output_type": "stream",
     "text": [
      "Reading image  141\n"
     ]
    },
    {
     "name": "stderr",
     "output_type": "stream",
     "text": [
      "GLCM is symmetrical, therefore Sum Average = 2 * Joint Average, only 1 needs to be calculated\n"
     ]
    },
    {
     "name": "stdout",
     "output_type": "stream",
     "text": [
      "Reading image  142\n"
     ]
    },
    {
     "name": "stderr",
     "output_type": "stream",
     "text": [
      "GLCM is symmetrical, therefore Sum Average = 2 * Joint Average, only 1 needs to be calculated\n"
     ]
    },
    {
     "name": "stdout",
     "output_type": "stream",
     "text": [
      "Reading image  143\n"
     ]
    },
    {
     "name": "stderr",
     "output_type": "stream",
     "text": [
      "GLCM is symmetrical, therefore Sum Average = 2 * Joint Average, only 1 needs to be calculated\n"
     ]
    },
    {
     "name": "stdout",
     "output_type": "stream",
     "text": [
      "Reading image  144\n"
     ]
    },
    {
     "name": "stderr",
     "output_type": "stream",
     "text": [
      "GLCM is symmetrical, therefore Sum Average = 2 * Joint Average, only 1 needs to be calculated\n"
     ]
    },
    {
     "name": "stdout",
     "output_type": "stream",
     "text": [
      "Reading image  145\n"
     ]
    },
    {
     "name": "stderr",
     "output_type": "stream",
     "text": [
      "GLCM is symmetrical, therefore Sum Average = 2 * Joint Average, only 1 needs to be calculated\n"
     ]
    },
    {
     "name": "stdout",
     "output_type": "stream",
     "text": [
      "Reading image  146\n"
     ]
    },
    {
     "name": "stderr",
     "output_type": "stream",
     "text": [
      "GLCM is symmetrical, therefore Sum Average = 2 * Joint Average, only 1 needs to be calculated\n"
     ]
    },
    {
     "name": "stdout",
     "output_type": "stream",
     "text": [
      "Reading image  147\n"
     ]
    },
    {
     "name": "stderr",
     "output_type": "stream",
     "text": [
      "GLCM is symmetrical, therefore Sum Average = 2 * Joint Average, only 1 needs to be calculated\n"
     ]
    },
    {
     "name": "stdout",
     "output_type": "stream",
     "text": [
      "Reading image  148\n"
     ]
    },
    {
     "name": "stderr",
     "output_type": "stream",
     "text": [
      "GLCM is symmetrical, therefore Sum Average = 2 * Joint Average, only 1 needs to be calculated\n"
     ]
    },
    {
     "name": "stdout",
     "output_type": "stream",
     "text": [
      "Reading image  149\n"
     ]
    },
    {
     "name": "stderr",
     "output_type": "stream",
     "text": [
      "GLCM is symmetrical, therefore Sum Average = 2 * Joint Average, only 1 needs to be calculated\n"
     ]
    },
    {
     "name": "stdout",
     "output_type": "stream",
     "text": [
      "Reading image  150\n"
     ]
    },
    {
     "name": "stderr",
     "output_type": "stream",
     "text": [
      "GLCM is symmetrical, therefore Sum Average = 2 * Joint Average, only 1 needs to be calculated\n"
     ]
    },
    {
     "name": "stdout",
     "output_type": "stream",
     "text": [
      "Reading image  151\n"
     ]
    },
    {
     "name": "stderr",
     "output_type": "stream",
     "text": [
      "GLCM is symmetrical, therefore Sum Average = 2 * Joint Average, only 1 needs to be calculated\n"
     ]
    },
    {
     "name": "stdout",
     "output_type": "stream",
     "text": [
      "Reading image  152\n"
     ]
    },
    {
     "name": "stderr",
     "output_type": "stream",
     "text": [
      "GLCM is symmetrical, therefore Sum Average = 2 * Joint Average, only 1 needs to be calculated\n"
     ]
    },
    {
     "name": "stdout",
     "output_type": "stream",
     "text": [
      "Reading image  153\n"
     ]
    },
    {
     "name": "stderr",
     "output_type": "stream",
     "text": [
      "GLCM is symmetrical, therefore Sum Average = 2 * Joint Average, only 1 needs to be calculated\n"
     ]
    },
    {
     "name": "stdout",
     "output_type": "stream",
     "text": [
      "Reading image  154\n"
     ]
    },
    {
     "name": "stderr",
     "output_type": "stream",
     "text": [
      "GLCM is symmetrical, therefore Sum Average = 2 * Joint Average, only 1 needs to be calculated\n"
     ]
    },
    {
     "name": "stdout",
     "output_type": "stream",
     "text": [
      "Reading image  155\n"
     ]
    },
    {
     "name": "stderr",
     "output_type": "stream",
     "text": [
      "GLCM is symmetrical, therefore Sum Average = 2 * Joint Average, only 1 needs to be calculated\n"
     ]
    },
    {
     "name": "stdout",
     "output_type": "stream",
     "text": [
      "Reading image  156\n"
     ]
    },
    {
     "name": "stderr",
     "output_type": "stream",
     "text": [
      "GLCM is symmetrical, therefore Sum Average = 2 * Joint Average, only 1 needs to be calculated\n"
     ]
    },
    {
     "name": "stdout",
     "output_type": "stream",
     "text": [
      "Reading image  157\n"
     ]
    },
    {
     "name": "stderr",
     "output_type": "stream",
     "text": [
      "GLCM is symmetrical, therefore Sum Average = 2 * Joint Average, only 1 needs to be calculated\n"
     ]
    },
    {
     "name": "stdout",
     "output_type": "stream",
     "text": [
      "Reading image  158\n"
     ]
    },
    {
     "name": "stderr",
     "output_type": "stream",
     "text": [
      "GLCM is symmetrical, therefore Sum Average = 2 * Joint Average, only 1 needs to be calculated\n"
     ]
    },
    {
     "name": "stdout",
     "output_type": "stream",
     "text": [
      "Reading image  159\n"
     ]
    },
    {
     "name": "stderr",
     "output_type": "stream",
     "text": [
      "GLCM is symmetrical, therefore Sum Average = 2 * Joint Average, only 1 needs to be calculated\n"
     ]
    },
    {
     "name": "stdout",
     "output_type": "stream",
     "text": [
      "Reading image  160\n"
     ]
    },
    {
     "name": "stderr",
     "output_type": "stream",
     "text": [
      "GLCM is symmetrical, therefore Sum Average = 2 * Joint Average, only 1 needs to be calculated\n"
     ]
    },
    {
     "name": "stdout",
     "output_type": "stream",
     "text": [
      "Reading image  161\n"
     ]
    },
    {
     "name": "stderr",
     "output_type": "stream",
     "text": [
      "GLCM is symmetrical, therefore Sum Average = 2 * Joint Average, only 1 needs to be calculated\n"
     ]
    },
    {
     "name": "stdout",
     "output_type": "stream",
     "text": [
      "Reading image  162\n"
     ]
    },
    {
     "name": "stderr",
     "output_type": "stream",
     "text": [
      "GLCM is symmetrical, therefore Sum Average = 2 * Joint Average, only 1 needs to be calculated\n"
     ]
    },
    {
     "name": "stdout",
     "output_type": "stream",
     "text": [
      "Reading image  163\n"
     ]
    },
    {
     "name": "stderr",
     "output_type": "stream",
     "text": [
      "GLCM is symmetrical, therefore Sum Average = 2 * Joint Average, only 1 needs to be calculated\n"
     ]
    },
    {
     "name": "stdout",
     "output_type": "stream",
     "text": [
      "Reading image  164\n"
     ]
    },
    {
     "name": "stderr",
     "output_type": "stream",
     "text": [
      "GLCM is symmetrical, therefore Sum Average = 2 * Joint Average, only 1 needs to be calculated\n"
     ]
    },
    {
     "name": "stdout",
     "output_type": "stream",
     "text": [
      "Reading image  165\n"
     ]
    },
    {
     "name": "stderr",
     "output_type": "stream",
     "text": [
      "GLCM is symmetrical, therefore Sum Average = 2 * Joint Average, only 1 needs to be calculated\n"
     ]
    },
    {
     "name": "stdout",
     "output_type": "stream",
     "text": [
      "Reading image  166\n"
     ]
    },
    {
     "name": "stderr",
     "output_type": "stream",
     "text": [
      "GLCM is symmetrical, therefore Sum Average = 2 * Joint Average, only 1 needs to be calculated\n"
     ]
    },
    {
     "name": "stdout",
     "output_type": "stream",
     "text": [
      "Reading image  167\n"
     ]
    },
    {
     "name": "stderr",
     "output_type": "stream",
     "text": [
      "GLCM is symmetrical, therefore Sum Average = 2 * Joint Average, only 1 needs to be calculated\n"
     ]
    },
    {
     "name": "stdout",
     "output_type": "stream",
     "text": [
      "Reading image  168\n"
     ]
    },
    {
     "name": "stderr",
     "output_type": "stream",
     "text": [
      "GLCM is symmetrical, therefore Sum Average = 2 * Joint Average, only 1 needs to be calculated\n"
     ]
    },
    {
     "name": "stdout",
     "output_type": "stream",
     "text": [
      "Reading image  169\n"
     ]
    },
    {
     "name": "stderr",
     "output_type": "stream",
     "text": [
      "GLCM is symmetrical, therefore Sum Average = 2 * Joint Average, only 1 needs to be calculated\n"
     ]
    },
    {
     "name": "stdout",
     "output_type": "stream",
     "text": [
      "Reading image  170\n"
     ]
    },
    {
     "name": "stderr",
     "output_type": "stream",
     "text": [
      "GLCM is symmetrical, therefore Sum Average = 2 * Joint Average, only 1 needs to be calculated\n"
     ]
    },
    {
     "name": "stdout",
     "output_type": "stream",
     "text": [
      "Reading image  171\n"
     ]
    },
    {
     "name": "stderr",
     "output_type": "stream",
     "text": [
      "GLCM is symmetrical, therefore Sum Average = 2 * Joint Average, only 1 needs to be calculated\n"
     ]
    },
    {
     "name": "stdout",
     "output_type": "stream",
     "text": [
      "Reading image  172\n"
     ]
    },
    {
     "name": "stderr",
     "output_type": "stream",
     "text": [
      "GLCM is symmetrical, therefore Sum Average = 2 * Joint Average, only 1 needs to be calculated\n"
     ]
    },
    {
     "name": "stdout",
     "output_type": "stream",
     "text": [
      "Reading image  173\n"
     ]
    },
    {
     "name": "stderr",
     "output_type": "stream",
     "text": [
      "GLCM is symmetrical, therefore Sum Average = 2 * Joint Average, only 1 needs to be calculated\n"
     ]
    },
    {
     "name": "stdout",
     "output_type": "stream",
     "text": [
      "Reading image  174\n"
     ]
    },
    {
     "name": "stderr",
     "output_type": "stream",
     "text": [
      "GLCM is symmetrical, therefore Sum Average = 2 * Joint Average, only 1 needs to be calculated\n"
     ]
    },
    {
     "name": "stdout",
     "output_type": "stream",
     "text": [
      "Reading image  175\n"
     ]
    },
    {
     "name": "stderr",
     "output_type": "stream",
     "text": [
      "GLCM is symmetrical, therefore Sum Average = 2 * Joint Average, only 1 needs to be calculated\n"
     ]
    },
    {
     "name": "stdout",
     "output_type": "stream",
     "text": [
      "Reading image  176\n"
     ]
    },
    {
     "name": "stderr",
     "output_type": "stream",
     "text": [
      "GLCM is symmetrical, therefore Sum Average = 2 * Joint Average, only 1 needs to be calculated\n"
     ]
    },
    {
     "name": "stdout",
     "output_type": "stream",
     "text": [
      "Reading image  177\n"
     ]
    },
    {
     "name": "stderr",
     "output_type": "stream",
     "text": [
      "GLCM is symmetrical, therefore Sum Average = 2 * Joint Average, only 1 needs to be calculated\n"
     ]
    },
    {
     "name": "stdout",
     "output_type": "stream",
     "text": [
      "Reading image  178\n"
     ]
    },
    {
     "name": "stderr",
     "output_type": "stream",
     "text": [
      "GLCM is symmetrical, therefore Sum Average = 2 * Joint Average, only 1 needs to be calculated\n"
     ]
    },
    {
     "name": "stdout",
     "output_type": "stream",
     "text": [
      "Reading image  179\n"
     ]
    },
    {
     "name": "stderr",
     "output_type": "stream",
     "text": [
      "GLCM is symmetrical, therefore Sum Average = 2 * Joint Average, only 1 needs to be calculated\n"
     ]
    },
    {
     "name": "stdout",
     "output_type": "stream",
     "text": [
      "Reading image  180\n"
     ]
    },
    {
     "name": "stderr",
     "output_type": "stream",
     "text": [
      "GLCM is symmetrical, therefore Sum Average = 2 * Joint Average, only 1 needs to be calculated\n"
     ]
    },
    {
     "name": "stdout",
     "output_type": "stream",
     "text": [
      "Reading image  181\n"
     ]
    },
    {
     "name": "stderr",
     "output_type": "stream",
     "text": [
      "GLCM is symmetrical, therefore Sum Average = 2 * Joint Average, only 1 needs to be calculated\n"
     ]
    },
    {
     "name": "stdout",
     "output_type": "stream",
     "text": [
      "Reading image  182\n"
     ]
    },
    {
     "name": "stderr",
     "output_type": "stream",
     "text": [
      "GLCM is symmetrical, therefore Sum Average = 2 * Joint Average, only 1 needs to be calculated\n"
     ]
    },
    {
     "name": "stdout",
     "output_type": "stream",
     "text": [
      "Reading image  183\n"
     ]
    },
    {
     "name": "stderr",
     "output_type": "stream",
     "text": [
      "GLCM is symmetrical, therefore Sum Average = 2 * Joint Average, only 1 needs to be calculated\n"
     ]
    },
    {
     "name": "stdout",
     "output_type": "stream",
     "text": [
      "Reading image  184\n"
     ]
    },
    {
     "name": "stderr",
     "output_type": "stream",
     "text": [
      "GLCM is symmetrical, therefore Sum Average = 2 * Joint Average, only 1 needs to be calculated\n"
     ]
    },
    {
     "name": "stdout",
     "output_type": "stream",
     "text": [
      "Reading image  185\n"
     ]
    },
    {
     "name": "stderr",
     "output_type": "stream",
     "text": [
      "GLCM is symmetrical, therefore Sum Average = 2 * Joint Average, only 1 needs to be calculated\n"
     ]
    },
    {
     "name": "stdout",
     "output_type": "stream",
     "text": [
      "Reading image  186\n"
     ]
    },
    {
     "name": "stderr",
     "output_type": "stream",
     "text": [
      "GLCM is symmetrical, therefore Sum Average = 2 * Joint Average, only 1 needs to be calculated\n"
     ]
    },
    {
     "name": "stdout",
     "output_type": "stream",
     "text": [
      "Reading image  187\n"
     ]
    },
    {
     "name": "stderr",
     "output_type": "stream",
     "text": [
      "GLCM is symmetrical, therefore Sum Average = 2 * Joint Average, only 1 needs to be calculated\n"
     ]
    },
    {
     "name": "stdout",
     "output_type": "stream",
     "text": [
      "Reading image  188\n"
     ]
    },
    {
     "name": "stderr",
     "output_type": "stream",
     "text": [
      "GLCM is symmetrical, therefore Sum Average = 2 * Joint Average, only 1 needs to be calculated\n"
     ]
    },
    {
     "name": "stdout",
     "output_type": "stream",
     "text": [
      "Reading image  189\n"
     ]
    },
    {
     "name": "stderr",
     "output_type": "stream",
     "text": [
      "GLCM is symmetrical, therefore Sum Average = 2 * Joint Average, only 1 needs to be calculated\n"
     ]
    },
    {
     "name": "stdout",
     "output_type": "stream",
     "text": [
      "Reading image  190\n"
     ]
    },
    {
     "name": "stderr",
     "output_type": "stream",
     "text": [
      "GLCM is symmetrical, therefore Sum Average = 2 * Joint Average, only 1 needs to be calculated\n"
     ]
    },
    {
     "name": "stdout",
     "output_type": "stream",
     "text": [
      "Reading image  191\n"
     ]
    },
    {
     "name": "stderr",
     "output_type": "stream",
     "text": [
      "GLCM is symmetrical, therefore Sum Average = 2 * Joint Average, only 1 needs to be calculated\n"
     ]
    },
    {
     "name": "stdout",
     "output_type": "stream",
     "text": [
      "Reading image  192\n"
     ]
    },
    {
     "name": "stderr",
     "output_type": "stream",
     "text": [
      "GLCM is symmetrical, therefore Sum Average = 2 * Joint Average, only 1 needs to be calculated\n"
     ]
    },
    {
     "name": "stdout",
     "output_type": "stream",
     "text": [
      "Reading image  193\n"
     ]
    },
    {
     "name": "stderr",
     "output_type": "stream",
     "text": [
      "GLCM is symmetrical, therefore Sum Average = 2 * Joint Average, only 1 needs to be calculated\n"
     ]
    },
    {
     "name": "stdout",
     "output_type": "stream",
     "text": [
      "Reading image  194\n"
     ]
    },
    {
     "name": "stderr",
     "output_type": "stream",
     "text": [
      "GLCM is symmetrical, therefore Sum Average = 2 * Joint Average, only 1 needs to be calculated\n"
     ]
    },
    {
     "name": "stdout",
     "output_type": "stream",
     "text": [
      "Reading image  195\n"
     ]
    },
    {
     "name": "stderr",
     "output_type": "stream",
     "text": [
      "GLCM is symmetrical, therefore Sum Average = 2 * Joint Average, only 1 needs to be calculated\n"
     ]
    },
    {
     "name": "stdout",
     "output_type": "stream",
     "text": [
      "Reading image  196\n"
     ]
    },
    {
     "name": "stderr",
     "output_type": "stream",
     "text": [
      "GLCM is symmetrical, therefore Sum Average = 2 * Joint Average, only 1 needs to be calculated\n"
     ]
    },
    {
     "name": "stdout",
     "output_type": "stream",
     "text": [
      "Reading image  197\n"
     ]
    },
    {
     "name": "stderr",
     "output_type": "stream",
     "text": [
      "GLCM is symmetrical, therefore Sum Average = 2 * Joint Average, only 1 needs to be calculated\n"
     ]
    },
    {
     "name": "stdout",
     "output_type": "stream",
     "text": [
      "Reading image  198\n"
     ]
    },
    {
     "name": "stderr",
     "output_type": "stream",
     "text": [
      "GLCM is symmetrical, therefore Sum Average = 2 * Joint Average, only 1 needs to be calculated\n"
     ]
    },
    {
     "name": "stdout",
     "output_type": "stream",
     "text": [
      "Reading image  199\n"
     ]
    },
    {
     "name": "stderr",
     "output_type": "stream",
     "text": [
      "GLCM is symmetrical, therefore Sum Average = 2 * Joint Average, only 1 needs to be calculated\n"
     ]
    },
    {
     "name": "stdout",
     "output_type": "stream",
     "text": [
      "Reading image  200\n"
     ]
    },
    {
     "name": "stderr",
     "output_type": "stream",
     "text": [
      "GLCM is symmetrical, therefore Sum Average = 2 * Joint Average, only 1 needs to be calculated\n"
     ]
    },
    {
     "name": "stdout",
     "output_type": "stream",
     "text": [
      "Reading image  201\n"
     ]
    },
    {
     "name": "stderr",
     "output_type": "stream",
     "text": [
      "GLCM is symmetrical, therefore Sum Average = 2 * Joint Average, only 1 needs to be calculated\n"
     ]
    },
    {
     "name": "stdout",
     "output_type": "stream",
     "text": [
      "Reading image  202\n"
     ]
    },
    {
     "name": "stderr",
     "output_type": "stream",
     "text": [
      "GLCM is symmetrical, therefore Sum Average = 2 * Joint Average, only 1 needs to be calculated\n"
     ]
    },
    {
     "name": "stdout",
     "output_type": "stream",
     "text": [
      "Reading image  203\n"
     ]
    },
    {
     "name": "stderr",
     "output_type": "stream",
     "text": [
      "GLCM is symmetrical, therefore Sum Average = 2 * Joint Average, only 1 needs to be calculated\n"
     ]
    },
    {
     "name": "stdout",
     "output_type": "stream",
     "text": [
      "Reading image  204\n"
     ]
    },
    {
     "name": "stderr",
     "output_type": "stream",
     "text": [
      "GLCM is symmetrical, therefore Sum Average = 2 * Joint Average, only 1 needs to be calculated\n"
     ]
    },
    {
     "name": "stdout",
     "output_type": "stream",
     "text": [
      "Reading image  205\n"
     ]
    },
    {
     "name": "stderr",
     "output_type": "stream",
     "text": [
      "GLCM is symmetrical, therefore Sum Average = 2 * Joint Average, only 1 needs to be calculated\n"
     ]
    },
    {
     "name": "stdout",
     "output_type": "stream",
     "text": [
      "Reading image  206\n"
     ]
    },
    {
     "name": "stderr",
     "output_type": "stream",
     "text": [
      "GLCM is symmetrical, therefore Sum Average = 2 * Joint Average, only 1 needs to be calculated\n"
     ]
    },
    {
     "name": "stdout",
     "output_type": "stream",
     "text": [
      "Reading image  207\n"
     ]
    },
    {
     "name": "stderr",
     "output_type": "stream",
     "text": [
      "GLCM is symmetrical, therefore Sum Average = 2 * Joint Average, only 1 needs to be calculated\n"
     ]
    },
    {
     "name": "stdout",
     "output_type": "stream",
     "text": [
      "Reading image  208\n"
     ]
    },
    {
     "name": "stderr",
     "output_type": "stream",
     "text": [
      "GLCM is symmetrical, therefore Sum Average = 2 * Joint Average, only 1 needs to be calculated\n"
     ]
    },
    {
     "name": "stdout",
     "output_type": "stream",
     "text": [
      "Reading image  209\n"
     ]
    },
    {
     "name": "stderr",
     "output_type": "stream",
     "text": [
      "GLCM is symmetrical, therefore Sum Average = 2 * Joint Average, only 1 needs to be calculated\n"
     ]
    },
    {
     "name": "stdout",
     "output_type": "stream",
     "text": [
      "Reading image  210\n"
     ]
    },
    {
     "name": "stderr",
     "output_type": "stream",
     "text": [
      "GLCM is symmetrical, therefore Sum Average = 2 * Joint Average, only 1 needs to be calculated\n"
     ]
    },
    {
     "name": "stdout",
     "output_type": "stream",
     "text": [
      "Reading image  211\n"
     ]
    },
    {
     "name": "stderr",
     "output_type": "stream",
     "text": [
      "GLCM is symmetrical, therefore Sum Average = 2 * Joint Average, only 1 needs to be calculated\n"
     ]
    },
    {
     "name": "stdout",
     "output_type": "stream",
     "text": [
      "Reading image  212\n"
     ]
    },
    {
     "name": "stderr",
     "output_type": "stream",
     "text": [
      "GLCM is symmetrical, therefore Sum Average = 2 * Joint Average, only 1 needs to be calculated\n"
     ]
    },
    {
     "name": "stdout",
     "output_type": "stream",
     "text": [
      "Reading image  213\n"
     ]
    },
    {
     "name": "stderr",
     "output_type": "stream",
     "text": [
      "GLCM is symmetrical, therefore Sum Average = 2 * Joint Average, only 1 needs to be calculated\n"
     ]
    },
    {
     "name": "stdout",
     "output_type": "stream",
     "text": [
      "Reading image  214\n"
     ]
    },
    {
     "name": "stderr",
     "output_type": "stream",
     "text": [
      "GLCM is symmetrical, therefore Sum Average = 2 * Joint Average, only 1 needs to be calculated\n"
     ]
    },
    {
     "name": "stdout",
     "output_type": "stream",
     "text": [
      "Reading image  215\n"
     ]
    },
    {
     "name": "stderr",
     "output_type": "stream",
     "text": [
      "GLCM is symmetrical, therefore Sum Average = 2 * Joint Average, only 1 needs to be calculated\n"
     ]
    },
    {
     "name": "stdout",
     "output_type": "stream",
     "text": [
      "Reading image  216\n"
     ]
    },
    {
     "name": "stderr",
     "output_type": "stream",
     "text": [
      "GLCM is symmetrical, therefore Sum Average = 2 * Joint Average, only 1 needs to be calculated\n"
     ]
    },
    {
     "name": "stdout",
     "output_type": "stream",
     "text": [
      "Reading image  217\n"
     ]
    },
    {
     "name": "stderr",
     "output_type": "stream",
     "text": [
      "GLCM is symmetrical, therefore Sum Average = 2 * Joint Average, only 1 needs to be calculated\n"
     ]
    },
    {
     "name": "stdout",
     "output_type": "stream",
     "text": [
      "Reading image  218\n"
     ]
    },
    {
     "name": "stderr",
     "output_type": "stream",
     "text": [
      "GLCM is symmetrical, therefore Sum Average = 2 * Joint Average, only 1 needs to be calculated\n"
     ]
    },
    {
     "name": "stdout",
     "output_type": "stream",
     "text": [
      "Reading image  219\n"
     ]
    },
    {
     "name": "stderr",
     "output_type": "stream",
     "text": [
      "GLCM is symmetrical, therefore Sum Average = 2 * Joint Average, only 1 needs to be calculated\n"
     ]
    },
    {
     "name": "stdout",
     "output_type": "stream",
     "text": [
      "Reading image  220\n"
     ]
    },
    {
     "name": "stderr",
     "output_type": "stream",
     "text": [
      "GLCM is symmetrical, therefore Sum Average = 2 * Joint Average, only 1 needs to be calculated\n"
     ]
    },
    {
     "name": "stdout",
     "output_type": "stream",
     "text": [
      "Reading image  221\n"
     ]
    },
    {
     "name": "stderr",
     "output_type": "stream",
     "text": [
      "GLCM is symmetrical, therefore Sum Average = 2 * Joint Average, only 1 needs to be calculated\n"
     ]
    },
    {
     "name": "stdout",
     "output_type": "stream",
     "text": [
      "Reading image  222\n"
     ]
    },
    {
     "name": "stderr",
     "output_type": "stream",
     "text": [
      "GLCM is symmetrical, therefore Sum Average = 2 * Joint Average, only 1 needs to be calculated\n"
     ]
    },
    {
     "name": "stdout",
     "output_type": "stream",
     "text": [
      "Reading image  223\n"
     ]
    },
    {
     "name": "stderr",
     "output_type": "stream",
     "text": [
      "GLCM is symmetrical, therefore Sum Average = 2 * Joint Average, only 1 needs to be calculated\n"
     ]
    },
    {
     "name": "stdout",
     "output_type": "stream",
     "text": [
      "Reading image  224\n"
     ]
    },
    {
     "name": "stderr",
     "output_type": "stream",
     "text": [
      "GLCM is symmetrical, therefore Sum Average = 2 * Joint Average, only 1 needs to be calculated\n"
     ]
    },
    {
     "name": "stdout",
     "output_type": "stream",
     "text": [
      "Reading image  225\n"
     ]
    },
    {
     "name": "stderr",
     "output_type": "stream",
     "text": [
      "GLCM is symmetrical, therefore Sum Average = 2 * Joint Average, only 1 needs to be calculated\n"
     ]
    },
    {
     "name": "stdout",
     "output_type": "stream",
     "text": [
      "Reading image  226\n"
     ]
    },
    {
     "name": "stderr",
     "output_type": "stream",
     "text": [
      "GLCM is symmetrical, therefore Sum Average = 2 * Joint Average, only 1 needs to be calculated\n"
     ]
    },
    {
     "name": "stdout",
     "output_type": "stream",
     "text": [
      "Reading image  227\n"
     ]
    },
    {
     "name": "stderr",
     "output_type": "stream",
     "text": [
      "GLCM is symmetrical, therefore Sum Average = 2 * Joint Average, only 1 needs to be calculated\n"
     ]
    },
    {
     "name": "stdout",
     "output_type": "stream",
     "text": [
      "Reading image  228\n"
     ]
    },
    {
     "name": "stderr",
     "output_type": "stream",
     "text": [
      "GLCM is symmetrical, therefore Sum Average = 2 * Joint Average, only 1 needs to be calculated\n"
     ]
    },
    {
     "name": "stdout",
     "output_type": "stream",
     "text": [
      "Reading image  229\n"
     ]
    },
    {
     "name": "stderr",
     "output_type": "stream",
     "text": [
      "GLCM is symmetrical, therefore Sum Average = 2 * Joint Average, only 1 needs to be calculated\n"
     ]
    },
    {
     "name": "stdout",
     "output_type": "stream",
     "text": [
      "Reading image  230\n"
     ]
    },
    {
     "name": "stderr",
     "output_type": "stream",
     "text": [
      "GLCM is symmetrical, therefore Sum Average = 2 * Joint Average, only 1 needs to be calculated\n"
     ]
    },
    {
     "name": "stdout",
     "output_type": "stream",
     "text": [
      "Reading image  231\n"
     ]
    },
    {
     "name": "stderr",
     "output_type": "stream",
     "text": [
      "GLCM is symmetrical, therefore Sum Average = 2 * Joint Average, only 1 needs to be calculated\n"
     ]
    },
    {
     "name": "stdout",
     "output_type": "stream",
     "text": [
      "Reading image  232\n"
     ]
    },
    {
     "name": "stderr",
     "output_type": "stream",
     "text": [
      "GLCM is symmetrical, therefore Sum Average = 2 * Joint Average, only 1 needs to be calculated\n"
     ]
    },
    {
     "name": "stdout",
     "output_type": "stream",
     "text": [
      "Reading image  233\n"
     ]
    },
    {
     "name": "stderr",
     "output_type": "stream",
     "text": [
      "GLCM is symmetrical, therefore Sum Average = 2 * Joint Average, only 1 needs to be calculated\n"
     ]
    },
    {
     "name": "stdout",
     "output_type": "stream",
     "text": [
      "Reading image  234\n"
     ]
    },
    {
     "name": "stderr",
     "output_type": "stream",
     "text": [
      "GLCM is symmetrical, therefore Sum Average = 2 * Joint Average, only 1 needs to be calculated\n"
     ]
    },
    {
     "name": "stdout",
     "output_type": "stream",
     "text": [
      "Reading image  235\n"
     ]
    },
    {
     "name": "stderr",
     "output_type": "stream",
     "text": [
      "GLCM is symmetrical, therefore Sum Average = 2 * Joint Average, only 1 needs to be calculated\n"
     ]
    },
    {
     "name": "stdout",
     "output_type": "stream",
     "text": [
      "Reading image  236\n"
     ]
    },
    {
     "name": "stderr",
     "output_type": "stream",
     "text": [
      "GLCM is symmetrical, therefore Sum Average = 2 * Joint Average, only 1 needs to be calculated\n"
     ]
    },
    {
     "name": "stdout",
     "output_type": "stream",
     "text": [
      "Reading image  237\n"
     ]
    },
    {
     "name": "stderr",
     "output_type": "stream",
     "text": [
      "GLCM is symmetrical, therefore Sum Average = 2 * Joint Average, only 1 needs to be calculated\n"
     ]
    },
    {
     "name": "stdout",
     "output_type": "stream",
     "text": [
      "Reading image  238\n"
     ]
    },
    {
     "name": "stderr",
     "output_type": "stream",
     "text": [
      "GLCM is symmetrical, therefore Sum Average = 2 * Joint Average, only 1 needs to be calculated\n"
     ]
    },
    {
     "name": "stdout",
     "output_type": "stream",
     "text": [
      "Reading image  239\n"
     ]
    },
    {
     "name": "stderr",
     "output_type": "stream",
     "text": [
      "GLCM is symmetrical, therefore Sum Average = 2 * Joint Average, only 1 needs to be calculated\n"
     ]
    },
    {
     "name": "stdout",
     "output_type": "stream",
     "text": [
      "Reading image  240\n"
     ]
    },
    {
     "name": "stderr",
     "output_type": "stream",
     "text": [
      "GLCM is symmetrical, therefore Sum Average = 2 * Joint Average, only 1 needs to be calculated\n"
     ]
    },
    {
     "name": "stdout",
     "output_type": "stream",
     "text": [
      "Reading image  241\n"
     ]
    },
    {
     "name": "stderr",
     "output_type": "stream",
     "text": [
      "GLCM is symmetrical, therefore Sum Average = 2 * Joint Average, only 1 needs to be calculated\n"
     ]
    },
    {
     "name": "stdout",
     "output_type": "stream",
     "text": [
      "Reading image  242\n"
     ]
    },
    {
     "name": "stderr",
     "output_type": "stream",
     "text": [
      "GLCM is symmetrical, therefore Sum Average = 2 * Joint Average, only 1 needs to be calculated\n"
     ]
    },
    {
     "name": "stdout",
     "output_type": "stream",
     "text": [
      "Reading image  243\n"
     ]
    },
    {
     "name": "stderr",
     "output_type": "stream",
     "text": [
      "GLCM is symmetrical, therefore Sum Average = 2 * Joint Average, only 1 needs to be calculated\n"
     ]
    },
    {
     "name": "stdout",
     "output_type": "stream",
     "text": [
      "Reading image  244\n"
     ]
    },
    {
     "name": "stderr",
     "output_type": "stream",
     "text": [
      "GLCM is symmetrical, therefore Sum Average = 2 * Joint Average, only 1 needs to be calculated\n"
     ]
    },
    {
     "name": "stdout",
     "output_type": "stream",
     "text": [
      "Reading image  245\n"
     ]
    },
    {
     "name": "stderr",
     "output_type": "stream",
     "text": [
      "GLCM is symmetrical, therefore Sum Average = 2 * Joint Average, only 1 needs to be calculated\n"
     ]
    },
    {
     "name": "stdout",
     "output_type": "stream",
     "text": [
      "Reading image  246\n"
     ]
    },
    {
     "name": "stderr",
     "output_type": "stream",
     "text": [
      "GLCM is symmetrical, therefore Sum Average = 2 * Joint Average, only 1 needs to be calculated\n"
     ]
    },
    {
     "name": "stdout",
     "output_type": "stream",
     "text": [
      "Reading image  247\n"
     ]
    },
    {
     "name": "stderr",
     "output_type": "stream",
     "text": [
      "GLCM is symmetrical, therefore Sum Average = 2 * Joint Average, only 1 needs to be calculated\n"
     ]
    },
    {
     "name": "stdout",
     "output_type": "stream",
     "text": [
      "Reading image  248\n"
     ]
    },
    {
     "name": "stderr",
     "output_type": "stream",
     "text": [
      "GLCM is symmetrical, therefore Sum Average = 2 * Joint Average, only 1 needs to be calculated\n"
     ]
    },
    {
     "name": "stdout",
     "output_type": "stream",
     "text": [
      "Reading image  249\n"
     ]
    },
    {
     "name": "stderr",
     "output_type": "stream",
     "text": [
      "GLCM is symmetrical, therefore Sum Average = 2 * Joint Average, only 1 needs to be calculated\n"
     ]
    },
    {
     "name": "stdout",
     "output_type": "stream",
     "text": [
      "Reading image  250\n"
     ]
    },
    {
     "name": "stderr",
     "output_type": "stream",
     "text": [
      "GLCM is symmetrical, therefore Sum Average = 2 * Joint Average, only 1 needs to be calculated\n"
     ]
    },
    {
     "name": "stdout",
     "output_type": "stream",
     "text": [
      "Reading image  251\n"
     ]
    },
    {
     "name": "stderr",
     "output_type": "stream",
     "text": [
      "GLCM is symmetrical, therefore Sum Average = 2 * Joint Average, only 1 needs to be calculated\n"
     ]
    },
    {
     "name": "stdout",
     "output_type": "stream",
     "text": [
      "Reading image  252\n"
     ]
    },
    {
     "name": "stderr",
     "output_type": "stream",
     "text": [
      "GLCM is symmetrical, therefore Sum Average = 2 * Joint Average, only 1 needs to be calculated\n"
     ]
    },
    {
     "name": "stdout",
     "output_type": "stream",
     "text": [
      "Reading image  253\n"
     ]
    },
    {
     "name": "stderr",
     "output_type": "stream",
     "text": [
      "GLCM is symmetrical, therefore Sum Average = 2 * Joint Average, only 1 needs to be calculated\n"
     ]
    },
    {
     "name": "stdout",
     "output_type": "stream",
     "text": [
      "Reading image  254\n"
     ]
    },
    {
     "name": "stderr",
     "output_type": "stream",
     "text": [
      "GLCM is symmetrical, therefore Sum Average = 2 * Joint Average, only 1 needs to be calculated\n"
     ]
    },
    {
     "name": "stdout",
     "output_type": "stream",
     "text": [
      "Reading image  255\n"
     ]
    },
    {
     "name": "stderr",
     "output_type": "stream",
     "text": [
      "GLCM is symmetrical, therefore Sum Average = 2 * Joint Average, only 1 needs to be calculated\n"
     ]
    },
    {
     "name": "stdout",
     "output_type": "stream",
     "text": [
      "Reading image  256\n"
     ]
    },
    {
     "name": "stderr",
     "output_type": "stream",
     "text": [
      "GLCM is symmetrical, therefore Sum Average = 2 * Joint Average, only 1 needs to be calculated\n"
     ]
    },
    {
     "name": "stdout",
     "output_type": "stream",
     "text": [
      "Reading image  257\n"
     ]
    },
    {
     "name": "stderr",
     "output_type": "stream",
     "text": [
      "GLCM is symmetrical, therefore Sum Average = 2 * Joint Average, only 1 needs to be calculated\n"
     ]
    },
    {
     "name": "stdout",
     "output_type": "stream",
     "text": [
      "Reading image  258\n"
     ]
    },
    {
     "name": "stderr",
     "output_type": "stream",
     "text": [
      "GLCM is symmetrical, therefore Sum Average = 2 * Joint Average, only 1 needs to be calculated\n"
     ]
    },
    {
     "name": "stdout",
     "output_type": "stream",
     "text": [
      "Reading image  259\n"
     ]
    },
    {
     "name": "stderr",
     "output_type": "stream",
     "text": [
      "GLCM is symmetrical, therefore Sum Average = 2 * Joint Average, only 1 needs to be calculated\n"
     ]
    },
    {
     "name": "stdout",
     "output_type": "stream",
     "text": [
      "Reading image  260\n"
     ]
    },
    {
     "name": "stderr",
     "output_type": "stream",
     "text": [
      "GLCM is symmetrical, therefore Sum Average = 2 * Joint Average, only 1 needs to be calculated\n"
     ]
    },
    {
     "name": "stdout",
     "output_type": "stream",
     "text": [
      "Reading image  261\n"
     ]
    },
    {
     "name": "stderr",
     "output_type": "stream",
     "text": [
      "GLCM is symmetrical, therefore Sum Average = 2 * Joint Average, only 1 needs to be calculated\n"
     ]
    },
    {
     "name": "stdout",
     "output_type": "stream",
     "text": [
      "Reading image  262\n"
     ]
    },
    {
     "name": "stderr",
     "output_type": "stream",
     "text": [
      "GLCM is symmetrical, therefore Sum Average = 2 * Joint Average, only 1 needs to be calculated\n"
     ]
    },
    {
     "name": "stdout",
     "output_type": "stream",
     "text": [
      "Reading image  263\n"
     ]
    },
    {
     "name": "stderr",
     "output_type": "stream",
     "text": [
      "GLCM is symmetrical, therefore Sum Average = 2 * Joint Average, only 1 needs to be calculated\n"
     ]
    },
    {
     "name": "stdout",
     "output_type": "stream",
     "text": [
      "Reading image  264\n"
     ]
    },
    {
     "name": "stderr",
     "output_type": "stream",
     "text": [
      "GLCM is symmetrical, therefore Sum Average = 2 * Joint Average, only 1 needs to be calculated\n"
     ]
    },
    {
     "name": "stdout",
     "output_type": "stream",
     "text": [
      "Reading image  265\n"
     ]
    },
    {
     "name": "stderr",
     "output_type": "stream",
     "text": [
      "GLCM is symmetrical, therefore Sum Average = 2 * Joint Average, only 1 needs to be calculated\n"
     ]
    },
    {
     "name": "stdout",
     "output_type": "stream",
     "text": [
      "Reading image  266\n"
     ]
    },
    {
     "name": "stderr",
     "output_type": "stream",
     "text": [
      "GLCM is symmetrical, therefore Sum Average = 2 * Joint Average, only 1 needs to be calculated\n"
     ]
    },
    {
     "name": "stdout",
     "output_type": "stream",
     "text": [
      "Reading image  267\n"
     ]
    },
    {
     "name": "stderr",
     "output_type": "stream",
     "text": [
      "GLCM is symmetrical, therefore Sum Average = 2 * Joint Average, only 1 needs to be calculated\n"
     ]
    },
    {
     "name": "stdout",
     "output_type": "stream",
     "text": [
      "Reading image  268\n"
     ]
    },
    {
     "name": "stderr",
     "output_type": "stream",
     "text": [
      "GLCM is symmetrical, therefore Sum Average = 2 * Joint Average, only 1 needs to be calculated\n"
     ]
    },
    {
     "name": "stdout",
     "output_type": "stream",
     "text": [
      "Reading image  269\n"
     ]
    },
    {
     "name": "stderr",
     "output_type": "stream",
     "text": [
      "GLCM is symmetrical, therefore Sum Average = 2 * Joint Average, only 1 needs to be calculated\n"
     ]
    },
    {
     "name": "stdout",
     "output_type": "stream",
     "text": [
      "Reading image  270\n"
     ]
    },
    {
     "name": "stderr",
     "output_type": "stream",
     "text": [
      "GLCM is symmetrical, therefore Sum Average = 2 * Joint Average, only 1 needs to be calculated\n"
     ]
    },
    {
     "name": "stdout",
     "output_type": "stream",
     "text": [
      "Reading image  271\n"
     ]
    },
    {
     "name": "stderr",
     "output_type": "stream",
     "text": [
      "GLCM is symmetrical, therefore Sum Average = 2 * Joint Average, only 1 needs to be calculated\n"
     ]
    },
    {
     "name": "stdout",
     "output_type": "stream",
     "text": [
      "Reading image  272\n"
     ]
    },
    {
     "name": "stderr",
     "output_type": "stream",
     "text": [
      "GLCM is symmetrical, therefore Sum Average = 2 * Joint Average, only 1 needs to be calculated\n"
     ]
    },
    {
     "name": "stdout",
     "output_type": "stream",
     "text": [
      "Reading image  273\n"
     ]
    },
    {
     "name": "stderr",
     "output_type": "stream",
     "text": [
      "GLCM is symmetrical, therefore Sum Average = 2 * Joint Average, only 1 needs to be calculated\n"
     ]
    },
    {
     "name": "stdout",
     "output_type": "stream",
     "text": [
      "Reading image  274\n"
     ]
    },
    {
     "name": "stderr",
     "output_type": "stream",
     "text": [
      "GLCM is symmetrical, therefore Sum Average = 2 * Joint Average, only 1 needs to be calculated\n"
     ]
    },
    {
     "name": "stdout",
     "output_type": "stream",
     "text": [
      "Reading image  275\n"
     ]
    },
    {
     "name": "stderr",
     "output_type": "stream",
     "text": [
      "GLCM is symmetrical, therefore Sum Average = 2 * Joint Average, only 1 needs to be calculated\n"
     ]
    },
    {
     "name": "stdout",
     "output_type": "stream",
     "text": [
      "Reading image  276\n"
     ]
    },
    {
     "name": "stderr",
     "output_type": "stream",
     "text": [
      "GLCM is symmetrical, therefore Sum Average = 2 * Joint Average, only 1 needs to be calculated\n"
     ]
    },
    {
     "name": "stdout",
     "output_type": "stream",
     "text": [
      "Reading image  277\n"
     ]
    },
    {
     "name": "stderr",
     "output_type": "stream",
     "text": [
      "GLCM is symmetrical, therefore Sum Average = 2 * Joint Average, only 1 needs to be calculated\n"
     ]
    },
    {
     "name": "stdout",
     "output_type": "stream",
     "text": [
      "Reading image  278\n"
     ]
    },
    {
     "name": "stderr",
     "output_type": "stream",
     "text": [
      "GLCM is symmetrical, therefore Sum Average = 2 * Joint Average, only 1 needs to be calculated\n"
     ]
    },
    {
     "name": "stdout",
     "output_type": "stream",
     "text": [
      "Reading image  279\n"
     ]
    },
    {
     "name": "stderr",
     "output_type": "stream",
     "text": [
      "GLCM is symmetrical, therefore Sum Average = 2 * Joint Average, only 1 needs to be calculated\n"
     ]
    },
    {
     "name": "stdout",
     "output_type": "stream",
     "text": [
      "Reading image  280\n"
     ]
    },
    {
     "name": "stderr",
     "output_type": "stream",
     "text": [
      "GLCM is symmetrical, therefore Sum Average = 2 * Joint Average, only 1 needs to be calculated\n"
     ]
    },
    {
     "name": "stdout",
     "output_type": "stream",
     "text": [
      "Reading image  281\n"
     ]
    },
    {
     "name": "stderr",
     "output_type": "stream",
     "text": [
      "GLCM is symmetrical, therefore Sum Average = 2 * Joint Average, only 1 needs to be calculated\n"
     ]
    },
    {
     "name": "stdout",
     "output_type": "stream",
     "text": [
      "Reading image  282\n"
     ]
    },
    {
     "name": "stderr",
     "output_type": "stream",
     "text": [
      "GLCM is symmetrical, therefore Sum Average = 2 * Joint Average, only 1 needs to be calculated\n"
     ]
    },
    {
     "name": "stdout",
     "output_type": "stream",
     "text": [
      "Reading image  283\n"
     ]
    },
    {
     "name": "stderr",
     "output_type": "stream",
     "text": [
      "GLCM is symmetrical, therefore Sum Average = 2 * Joint Average, only 1 needs to be calculated\n"
     ]
    },
    {
     "name": "stdout",
     "output_type": "stream",
     "text": [
      "Reading image  284\n"
     ]
    },
    {
     "name": "stderr",
     "output_type": "stream",
     "text": [
      "GLCM is symmetrical, therefore Sum Average = 2 * Joint Average, only 1 needs to be calculated\n"
     ]
    },
    {
     "name": "stdout",
     "output_type": "stream",
     "text": [
      "Reading image  285\n"
     ]
    },
    {
     "name": "stderr",
     "output_type": "stream",
     "text": [
      "GLCM is symmetrical, therefore Sum Average = 2 * Joint Average, only 1 needs to be calculated\n"
     ]
    },
    {
     "name": "stdout",
     "output_type": "stream",
     "text": [
      "Reading image  286\n"
     ]
    },
    {
     "name": "stderr",
     "output_type": "stream",
     "text": [
      "GLCM is symmetrical, therefore Sum Average = 2 * Joint Average, only 1 needs to be calculated\n"
     ]
    },
    {
     "name": "stdout",
     "output_type": "stream",
     "text": [
      "Reading image  287\n"
     ]
    },
    {
     "name": "stderr",
     "output_type": "stream",
     "text": [
      "GLCM is symmetrical, therefore Sum Average = 2 * Joint Average, only 1 needs to be calculated\n"
     ]
    },
    {
     "name": "stdout",
     "output_type": "stream",
     "text": [
      "Reading image  288\n"
     ]
    },
    {
     "name": "stderr",
     "output_type": "stream",
     "text": [
      "GLCM is symmetrical, therefore Sum Average = 2 * Joint Average, only 1 needs to be calculated\n"
     ]
    },
    {
     "name": "stdout",
     "output_type": "stream",
     "text": [
      "Reading image  289\n"
     ]
    },
    {
     "name": "stderr",
     "output_type": "stream",
     "text": [
      "GLCM is symmetrical, therefore Sum Average = 2 * Joint Average, only 1 needs to be calculated\n"
     ]
    },
    {
     "name": "stdout",
     "output_type": "stream",
     "text": [
      "Reading image  290\n"
     ]
    },
    {
     "name": "stderr",
     "output_type": "stream",
     "text": [
      "GLCM is symmetrical, therefore Sum Average = 2 * Joint Average, only 1 needs to be calculated\n"
     ]
    },
    {
     "name": "stdout",
     "output_type": "stream",
     "text": [
      "Reading image  291\n"
     ]
    },
    {
     "name": "stderr",
     "output_type": "stream",
     "text": [
      "GLCM is symmetrical, therefore Sum Average = 2 * Joint Average, only 1 needs to be calculated\n"
     ]
    },
    {
     "name": "stdout",
     "output_type": "stream",
     "text": [
      "Reading image  292\n"
     ]
    },
    {
     "name": "stderr",
     "output_type": "stream",
     "text": [
      "GLCM is symmetrical, therefore Sum Average = 2 * Joint Average, only 1 needs to be calculated\n"
     ]
    },
    {
     "name": "stdout",
     "output_type": "stream",
     "text": [
      "Reading image  293\n"
     ]
    },
    {
     "name": "stderr",
     "output_type": "stream",
     "text": [
      "GLCM is symmetrical, therefore Sum Average = 2 * Joint Average, only 1 needs to be calculated\n"
     ]
    },
    {
     "name": "stdout",
     "output_type": "stream",
     "text": [
      "Reading image  294\n"
     ]
    },
    {
     "name": "stderr",
     "output_type": "stream",
     "text": [
      "GLCM is symmetrical, therefore Sum Average = 2 * Joint Average, only 1 needs to be calculated\n"
     ]
    },
    {
     "name": "stdout",
     "output_type": "stream",
     "text": [
      "Reading image  295\n"
     ]
    },
    {
     "name": "stderr",
     "output_type": "stream",
     "text": [
      "GLCM is symmetrical, therefore Sum Average = 2 * Joint Average, only 1 needs to be calculated\n"
     ]
    },
    {
     "name": "stdout",
     "output_type": "stream",
     "text": [
      "Reading image  296\n"
     ]
    },
    {
     "name": "stderr",
     "output_type": "stream",
     "text": [
      "GLCM is symmetrical, therefore Sum Average = 2 * Joint Average, only 1 needs to be calculated\n"
     ]
    },
    {
     "name": "stdout",
     "output_type": "stream",
     "text": [
      "Reading image  297\n"
     ]
    },
    {
     "name": "stderr",
     "output_type": "stream",
     "text": [
      "GLCM is symmetrical, therefore Sum Average = 2 * Joint Average, only 1 needs to be calculated\n"
     ]
    },
    {
     "name": "stdout",
     "output_type": "stream",
     "text": [
      "Reading image  298\n"
     ]
    },
    {
     "name": "stderr",
     "output_type": "stream",
     "text": [
      "GLCM is symmetrical, therefore Sum Average = 2 * Joint Average, only 1 needs to be calculated\n"
     ]
    },
    {
     "name": "stdout",
     "output_type": "stream",
     "text": [
      "Reading image  299\n"
     ]
    },
    {
     "name": "stderr",
     "output_type": "stream",
     "text": [
      "GLCM is symmetrical, therefore Sum Average = 2 * Joint Average, only 1 needs to be calculated\n"
     ]
    }
   ],
   "source": [
    "dataframe=[]\n",
    "for i in range(300):\n",
    "   \n",
    "    print(\"Reading image \",i)\n",
    "    im = get_img(i)\n",
    "    \n",
    "    test_img = np.array([np.moveaxis(np.array(im.resize((256, 256))), -1, 0)]) # redimensionamos la imagen\n",
    "    test_res = model_unet(torch.Tensor(test_img)) # obtenemos la segmentacion\n",
    "    \n",
    "    image = sitk.GetImageFromArray(test_img[0,0,:,:].reshape(1, 256, 256)) # passamos a array (1,256,256)\n",
    "    mask = sitk.GetImageFromArray(np.array([\n",
    "            test_res[0][0].detach().cpu().numpy() > 0.5\n",
    "        ]).astype(np.uint8))  # obtenemos la mascara de forma general. Todos los metodos de extraccion de caracteristicas acceptan esta forma\n",
    "    \n",
    "    bb, correctedMask = radiomics.imageoperations.checkMask(image, mask, label = 1)\n",
    "    if correctedMask is not None:\n",
    "        mask = correctedMask\n",
    "    image, mask = radiomics.imageoperations.cropToTumorMask(image, mask, bb)\n",
    "\n",
    "    \n",
    "    \n",
    "    label = {\"image\": str(train_dirs[i])}\n",
    "    \n",
    "    \n",
    "    firstOrderFeatures = radiomics.firstorder.RadiomicsFirstOrder(image, mask)\n",
    "    firstOrderFeatures.enableAllFeatures()\n",
    "\n",
    "    final_results = firstOrderFeatures.execute()\n",
    "    \n",
    "    shapeFeatures = radiomics.shape.RadiomicsShape(image, mask,  label = 1)\n",
    "    shapeFeatures.enableAllFeatures()\n",
    "        \n",
    "    results = shapeFeatures.execute()\n",
    "        \n",
    "    final_results = {**label, **final_results, **results}\n",
    "    \n",
    "    glcmFeatures = radiomics.glcm.RadiomicsGLCM(image, mask,  label = 1)\n",
    "    glcmFeatures.enableAllFeatures()\n",
    "    \n",
    "    results = glcmFeatures.execute()\n",
    "    final_results = {**final_results, **results}\n",
    "    dataframe.append(final_results)"
   ]
  },
  {
   "cell_type": "code",
   "execution_count": 10,
   "id": "358bc866",
   "metadata": {
    "execution": {
     "iopub.execute_input": "2022-05-10T10:17:59.905956Z",
     "iopub.status.busy": "2022-05-10T10:17:59.905230Z",
     "iopub.status.idle": "2022-05-10T10:17:59.909016Z",
     "shell.execute_reply": "2022-05-10T10:17:59.909417Z",
     "shell.execute_reply.started": "2022-05-09T15:49:21.932791Z"
    },
    "papermill": {
     "duration": 0.233312,
     "end_time": "2022-05-10T10:17:59.909562",
     "exception": false,
     "start_time": "2022-05-10T10:17:59.676250",
     "status": "completed"
    },
    "tags": []
   },
   "outputs": [
    {
     "data": {
      "text/plain": [
       "300"
      ]
     },
     "execution_count": 10,
     "metadata": {},
     "output_type": "execute_result"
    }
   ],
   "source": [
    "datos = pd.DataFrame.from_dict(dataframe)\n",
    "#final_results\n",
    "len(datos)"
   ]
  },
  {
   "cell_type": "code",
   "execution_count": 11,
   "id": "fb00d052",
   "metadata": {
    "execution": {
     "iopub.execute_input": "2022-05-10T10:18:00.312041Z",
     "iopub.status.busy": "2022-05-10T10:18:00.311279Z",
     "iopub.status.idle": "2022-05-10T10:18:00.313574Z",
     "shell.execute_reply": "2022-05-10T10:18:00.314166Z",
     "shell.execute_reply.started": "2022-05-09T15:49:23.749413Z"
    },
    "papermill": {
     "duration": 0.210529,
     "end_time": "2022-05-10T10:18:00.314313",
     "exception": false,
     "start_time": "2022-05-10T10:18:00.103784",
     "status": "completed"
    },
    "tags": []
   },
   "outputs": [],
   "source": [
    " datos['label']= train_labels[\"MGMT_value\"][0:len(datos)]"
   ]
  },
  {
   "cell_type": "markdown",
   "id": "c318dc36",
   "metadata": {
    "papermill": {
     "duration": 0.200204,
     "end_time": "2022-05-10T10:18:00.711628",
     "exception": false,
     "start_time": "2022-05-10T10:18:00.511424",
     "status": "completed"
    },
    "tags": []
   },
   "source": [
    "## Clasificador  \n",
    "\n",
    "Ahora que ya tenemos el data set con las características , vamos a  entrenar un clasificador. \n",
    "\n",
    "Como se comentó en clase, y hemos podido observar en el final de este código, el proceso de segmentación presenta errores. Esto va a repercutir negativamente en nuestra clasificación, ya que, vamos a entrenar al modelo con información errónea. \n",
    "\n",
    "Hemos intentado aplicar un detector de outliers, con la intención de desacernos de aquellos datos erroneamente segmentados.  Al hacer la clasificación con y sin 'outliers' hemos visto que esta mejora quitando los outliers, no obstante, el rendimiento sigue siendo pobre\n"
   ]
  },
  {
   "cell_type": "code",
   "execution_count": 12,
   "id": "d1a36a69",
   "metadata": {
    "execution": {
     "iopub.execute_input": "2022-05-10T10:18:01.158967Z",
     "iopub.status.busy": "2022-05-10T10:18:01.158046Z",
     "iopub.status.idle": "2022-05-10T10:18:02.454210Z",
     "shell.execute_reply": "2022-05-10T10:18:02.453730Z",
     "shell.execute_reply.started": "2022-05-09T15:58:14.72687Z"
    },
    "papermill": {
     "duration": 1.547233,
     "end_time": "2022-05-10T10:18:02.454350",
     "exception": false,
     "start_time": "2022-05-10T10:18:00.907117",
     "status": "completed"
    },
    "tags": []
   },
   "outputs": [],
   "source": [
    "# quitamos la columna de los nombres de las imagenes/\n",
    "datos =datos.drop('image',1)\n",
    "\n",
    "# outlier detector: \n",
    "\n",
    "#Return the anomaly score of each sample using the IsolationForest algorithm\n",
    "\n",
    "#The IsolationForest ‘isolates’ observations by randomly selecting a feature and then randomly \n",
    "#selecting a split value between the maximum and minimum values of the selected feature.\n",
    "\n",
    "\n",
    "## Exctraccion de características con Random Forest\n",
    "\n",
    "#Los modelos Random forest nos permiten la opción de extraer las características y darnos un valor según su importancia. Vamos a utillizar este modelo para clasificar también nuestro dataset y después comprobaremos que nuestro modelo mejora al reducir las características y nos quedaremos con las 9 más importantes.\n",
    "from sklearn.ensemble import IsolationForest\n",
    "iso = IsolationForest()\n",
    "yhat = iso.fit_predict(datos)"
   ]
  },
  {
   "cell_type": "code",
   "execution_count": null,
   "id": "d079fd92",
   "metadata": {
    "papermill": {
     "duration": 0.20175,
     "end_time": "2022-05-10T10:18:02.862197",
     "exception": false,
     "start_time": "2022-05-10T10:18:02.660447",
     "status": "completed"
    },
    "tags": []
   },
   "outputs": [],
   "source": []
  },
  {
   "cell_type": "code",
   "execution_count": 13,
   "id": "0210262f",
   "metadata": {
    "execution": {
     "iopub.execute_input": "2022-05-10T10:18:03.265633Z",
     "iopub.status.busy": "2022-05-10T10:18:03.264786Z",
     "iopub.status.idle": "2022-05-10T10:18:03.273229Z",
     "shell.execute_reply": "2022-05-10T10:18:03.272818Z",
     "shell.execute_reply.started": "2022-05-09T15:58:25.13127Z"
    },
    "papermill": {
     "duration": 0.218598,
     "end_time": "2022-05-10T10:18:03.273341",
     "exception": false,
     "start_time": "2022-05-10T10:18:03.054743",
     "status": "completed"
    },
    "tags": []
   },
   "outputs": [],
   "source": [
    "from sklearn.model_selection import train_test_split\n",
    "from sklearn.preprocessing import LabelEncoder\n",
    "from sklearn.preprocessing import StandardScaler\n",
    "from sklearn.preprocessing import MinMaxScaler\n",
    "\n",
    "# select all rows that are not outliers\n",
    "mask = yhat != -1\n",
    "#X_full, y_full = datos[datos.columns.difference(['label'])][mask], datos['label'][mask]\n",
    "X_full, y_full = datos[datos.columns.difference(['label'])], datos['label']\n",
    "y = LabelEncoder().fit_transform(y_full)\n",
    "X_full = MinMaxScaler().fit_transform(X_full)\n",
    "\n",
    "\n",
    "\n"
   ]
  },
  {
   "cell_type": "code",
   "execution_count": 14,
   "id": "4629e4b2",
   "metadata": {
    "execution": {
     "iopub.execute_input": "2022-05-10T10:18:03.666053Z",
     "iopub.status.busy": "2022-05-10T10:18:03.665325Z",
     "iopub.status.idle": "2022-05-10T10:18:03.668018Z",
     "shell.execute_reply": "2022-05-10T10:18:03.668408Z",
     "shell.execute_reply.started": "2022-05-09T15:58:27.362705Z"
    },
    "papermill": {
     "duration": 0.201946,
     "end_time": "2022-05-10T10:18:03.668540",
     "exception": false,
     "start_time": "2022-05-10T10:18:03.466594",
     "status": "completed"
    },
    "tags": []
   },
   "outputs": [
    {
     "data": {
      "text/plain": [
       "array([[0.6625    , 0.685     , 0.08002304, ..., 0.43137903, 0.02021068,\n",
       "        0.30682459],\n",
       "       [0.56875   , 0.55      , 0.21204082, ..., 0.3769752 , 0.01128586,\n",
       "        0.19834555],\n",
       "       [0.036875  , 0.35      , 0.11606097, ..., 0.49235904, 0.05799877,\n",
       "        0.04718932],\n",
       "       ...,\n",
       "       [0.3       , 0.695     , 0.3144704 , ..., 0.04941235, 0.21225171,\n",
       "        0.11148712],\n",
       "       [0.7625    , 0.78      , 0.65883117, ..., 0.37870609, 0.08299702,\n",
       "        0.15454033],\n",
       "       [0.        , 0.683     , 0.30130677, ..., 0.07532375, 0.4005446 ,\n",
       "        0.03120887]])"
      ]
     },
     "execution_count": 14,
     "metadata": {},
     "output_type": "execute_result"
    }
   ],
   "source": [
    "X_full"
   ]
  },
  {
   "cell_type": "code",
   "execution_count": 15,
   "id": "0398d2fc",
   "metadata": {
    "execution": {
     "iopub.execute_input": "2022-05-10T10:18:04.068820Z",
     "iopub.status.busy": "2022-05-10T10:18:04.068074Z",
     "iopub.status.idle": "2022-05-10T10:18:04.071603Z",
     "shell.execute_reply": "2022-05-10T10:18:04.071131Z",
     "shell.execute_reply.started": "2022-05-09T15:58:34.672101Z"
    },
    "papermill": {
     "duration": 0.207419,
     "end_time": "2022-05-10T10:18:04.071760",
     "exception": false,
     "start_time": "2022-05-10T10:18:03.864341",
     "status": "completed"
    },
    "tags": []
   },
   "outputs": [],
   "source": [
    "#data_full =  datos[datos.columns.difference(['label'])][mask]\n",
    "data_full =  datos[datos.columns.difference(['label'])]"
   ]
  },
  {
   "cell_type": "code",
   "execution_count": 16,
   "id": "fc94e364",
   "metadata": {
    "execution": {
     "iopub.execute_input": "2022-05-10T10:18:04.512915Z",
     "iopub.status.busy": "2022-05-10T10:18:04.512200Z",
     "iopub.status.idle": "2022-05-10T10:18:04.515108Z",
     "shell.execute_reply": "2022-05-10T10:18:04.515472Z",
     "shell.execute_reply.started": "2022-05-09T16:21:51.425834Z"
    },
    "papermill": {
     "duration": 0.214754,
     "end_time": "2022-05-10T10:18:04.515615",
     "exception": false,
     "start_time": "2022-05-10T10:18:04.300861",
     "status": "completed"
    },
    "tags": []
   },
   "outputs": [],
   "source": [
    "X_train, X_test, y_train, y_test = train_test_split(X_full, y_full, test_size=0.3, random_state=42)"
   ]
  },
  {
   "cell_type": "code",
   "execution_count": 17,
   "id": "b73a2e83",
   "metadata": {
    "execution": {
     "iopub.execute_input": "2022-05-10T10:18:04.904421Z",
     "iopub.status.busy": "2022-05-10T10:18:04.903576Z",
     "iopub.status.idle": "2022-05-10T10:18:04.907465Z",
     "shell.execute_reply": "2022-05-10T10:18:04.907040Z",
     "shell.execute_reply.started": "2022-05-09T15:43:41.185596Z"
    },
    "papermill": {
     "duration": 0.19919,
     "end_time": "2022-05-10T10:18:04.907573",
     "exception": false,
     "start_time": "2022-05-10T10:18:04.708383",
     "status": "completed"
    },
    "tags": []
   },
   "outputs": [
    {
     "data": {
      "text/plain": [
       "(90, 56)"
      ]
     },
     "execution_count": 17,
     "metadata": {},
     "output_type": "execute_result"
    }
   ],
   "source": [
    "X_test.shape"
   ]
  },
  {
   "cell_type": "code",
   "execution_count": 18,
   "id": "e111f42a",
   "metadata": {
    "execution": {
     "iopub.execute_input": "2022-05-10T10:18:05.320206Z",
     "iopub.status.busy": "2022-05-10T10:18:05.319351Z",
     "iopub.status.idle": "2022-05-10T10:18:05.322289Z",
     "shell.execute_reply": "2022-05-10T10:18:05.321840Z",
     "shell.execute_reply.started": "2022-05-09T15:50:23.350206Z"
    },
    "papermill": {
     "duration": 0.215854,
     "end_time": "2022-05-10T10:18:05.322425",
     "exception": false,
     "start_time": "2022-05-10T10:18:05.106571",
     "status": "completed"
    },
    "tags": []
   },
   "outputs": [],
   "source": [
    "### from sklearn.model_selection import cross_val_score\n",
    "from sklearn.ensemble import GradientBoostingClassifier\n",
    "from sklearn.metrics import classification_report\n",
    "from sklearn.metrics import confusion_matrix\n",
    "from sklearn.metrics import accuracy_score\n",
    "from sklearn.neighbors import KNeighborsClassifier\n",
    "from sklearn.svm import SVC\n",
    "from sklearn.neighbors import KNeighborsClassifier\n",
    "from sklearn.neighbors import NearestNeighbors\n",
    "from sklearn.metrics import classification_report\n",
    "\n",
    "from sklearn.metrics import plot_confusion_matrix\n",
    "from sklearn import svm\n",
    "from sklearn import metrics\n",
    "from sklearn.model_selection import GridSearchCV\n"
   ]
  },
  {
   "cell_type": "markdown",
   "id": "8e35373f",
   "metadata": {
    "papermill": {
     "duration": 0.196865,
     "end_time": "2022-05-10T10:18:05.717244",
     "exception": false,
     "start_time": "2022-05-10T10:18:05.520379",
     "status": "completed"
    },
    "tags": []
   },
   "source": [
    "## Exctraccion de características con Random Forest\n",
    "\n",
    "Los modelos Random forest nos permiten la opción de extraer las características y darnos un valor según su importancia. Vamos a utillizar este modelo para clasificar también nuestro dataset y después comprobaremos que nuestro modelo mejora al reducir las características y nos quedaremos con las más importantes."
   ]
  },
  {
   "cell_type": "code",
   "execution_count": 19,
   "id": "eacf719f",
   "metadata": {
    "execution": {
     "iopub.execute_input": "2022-05-10T10:18:06.115625Z",
     "iopub.status.busy": "2022-05-10T10:18:06.114932Z",
     "iopub.status.idle": "2022-05-10T10:18:06.149051Z",
     "shell.execute_reply": "2022-05-10T10:18:06.149531Z",
     "shell.execute_reply.started": "2022-05-09T15:58:42.580955Z"
    },
    "papermill": {
     "duration": 0.241443,
     "end_time": "2022-05-10T10:18:06.149724",
     "exception": false,
     "start_time": "2022-05-10T10:18:05.908281",
     "status": "completed"
    },
    "tags": []
   },
   "outputs": [
    {
     "data": {
      "text/html": [
       "<div>\n",
       "<style scoped>\n",
       "    .dataframe tbody tr th:only-of-type {\n",
       "        vertical-align: middle;\n",
       "    }\n",
       "\n",
       "    .dataframe tbody tr th {\n",
       "        vertical-align: top;\n",
       "    }\n",
       "\n",
       "    .dataframe thead th {\n",
       "        text-align: right;\n",
       "    }\n",
       "</style>\n",
       "<table border=\"1\" class=\"dataframe\">\n",
       "  <thead>\n",
       "    <tr style=\"text-align: right;\">\n",
       "      <th></th>\n",
       "      <th>10Percentile</th>\n",
       "      <th>90Percentile</th>\n",
       "      <th>Autocorrelation</th>\n",
       "      <th>ClusterProminence</th>\n",
       "      <th>ClusterShade</th>\n",
       "      <th>ClusterTendency</th>\n",
       "      <th>Contrast</th>\n",
       "      <th>Correlation</th>\n",
       "      <th>DifferenceAverage</th>\n",
       "      <th>DifferenceEntropy</th>\n",
       "      <th>...</th>\n",
       "      <th>Sphericity</th>\n",
       "      <th>SumAverage</th>\n",
       "      <th>SumEntropy</th>\n",
       "      <th>SumSquares</th>\n",
       "      <th>SurfaceArea</th>\n",
       "      <th>SurfaceVolumeRatio</th>\n",
       "      <th>TotalEnergy</th>\n",
       "      <th>Uniformity</th>\n",
       "      <th>Variance</th>\n",
       "      <th>VoxelVolume</th>\n",
       "    </tr>\n",
       "  </thead>\n",
       "  <tbody>\n",
       "    <tr>\n",
       "      <th>0</th>\n",
       "      <td>106.0</td>\n",
       "      <td>137.0</td>\n",
       "      <td>5.330686111440979</td>\n",
       "      <td>3.1299014101848663</td>\n",
       "      <td>0.2949656947477074</td>\n",
       "      <td>1.0175351255387302</td>\n",
       "      <td>0.12029201069041426</td>\n",
       "      <td>0.7883651276364155</td>\n",
       "      <td>0.11894786858514522</td>\n",
       "      <td>0.5284288881583875</td>\n",
       "      <td>...</td>\n",
       "      <td>0.18314596540837882</td>\n",
       "      <td>4.519455807490639</td>\n",
       "      <td>1.571057233184022</td>\n",
       "      <td>0.284456784057286</td>\n",
       "      <td>4067.784894672939</td>\n",
       "      <td>2.1274098381379503</td>\n",
       "      <td>28436903.0</td>\n",
       "      <td>0.520692352659993</td>\n",
       "      <td>150.9793548822204</td>\n",
       "      <td>1971.0</td>\n",
       "    </tr>\n",
       "    <tr>\n",
       "      <th>1</th>\n",
       "      <td>91.0</td>\n",
       "      <td>110.0</td>\n",
       "      <td>12.475223504294146</td>\n",
       "      <td>2.995348990600872</td>\n",
       "      <td>-0.5804062481620946</td>\n",
       "      <td>1.1279434829520127</td>\n",
       "      <td>0.08988282429863369</td>\n",
       "      <td>0.8521707081879312</td>\n",
       "      <td>0.08988282429863369</td>\n",
       "      <td>0.4343109563661667</td>\n",
       "      <td>...</td>\n",
       "      <td>0.20190314770566123</td>\n",
       "      <td>6.990193486950618</td>\n",
       "      <td>1.5086972488263488</td>\n",
       "      <td>0.30445657681266153</td>\n",
       "      <td>2907.7357355780423</td>\n",
       "      <td>2.1738725828257746</td>\n",
       "      <td>13953720.0</td>\n",
       "      <td>0.4748337309518762</td>\n",
       "      <td>84.30848337515361</td>\n",
       "      <td>1394.0</td>\n",
       "    </tr>\n",
       "    <tr>\n",
       "      <th>2</th>\n",
       "      <td>5.900000000000006</td>\n",
       "      <td>70.0</td>\n",
       "      <td>7.280986414050133</td>\n",
       "      <td>12.98916237202266</td>\n",
       "      <td>-3.6886661583940223</td>\n",
       "      <td>1.8316039352491853</td>\n",
       "      <td>0.08272688676368829</td>\n",
       "      <td>0.9130790194752633</td>\n",
       "      <td>0.08272688676368829</td>\n",
       "      <td>0.40377912408710653</td>\n",
       "      <td>...</td>\n",
       "      <td>0.19184672734085265</td>\n",
       "      <td>5.232078340370215</td>\n",
       "      <td>1.4490516260790836</td>\n",
       "      <td>0.4785827055032184</td>\n",
       "      <td>1391.1873944708323</td>\n",
       "      <td>3.393139986514225</td>\n",
       "      <td>1944997.0</td>\n",
       "      <td>0.5720942257971846</td>\n",
       "      <td>433.26684573398444</td>\n",
       "      <td>590.0</td>\n",
       "    </tr>\n",
       "    <tr>\n",
       "      <th>3</th>\n",
       "      <td>68.0</td>\n",
       "      <td>97.0</td>\n",
       "      <td>3.6665570396070177</td>\n",
       "      <td>3.0590808575943527</td>\n",
       "      <td>-0.2932503271624274</td>\n",
       "      <td>0.92375103392878</td>\n",
       "      <td>0.056124561800744675</td>\n",
       "      <td>0.8852878958511301</td>\n",
       "      <td>0.056124561800744675</td>\n",
       "      <td>0.31038635270614234</td>\n",
       "      <td>...</td>\n",
       "      <td>0.19872066967313012</td>\n",
       "      <td>3.714638188350145</td>\n",
       "      <td>1.307550509984336</td>\n",
       "      <td>0.24496889893238116</td>\n",
       "      <td>3176.563678745875</td>\n",
       "      <td>2.130015877567641</td>\n",
       "      <td>11069884.0</td>\n",
       "      <td>0.5861315985798733</td>\n",
       "      <td>111.34010464758389</td>\n",
       "      <td>1539.0</td>\n",
       "    </tr>\n",
       "    <tr>\n",
       "      <th>4</th>\n",
       "      <td>144.0</td>\n",
       "      <td>177.0</td>\n",
       "      <td>8.873934750223109</td>\n",
       "      <td>5.16630073315151</td>\n",
       "      <td>-0.09696211493954111</td>\n",
       "      <td>1.2172186479697849</td>\n",
       "      <td>0.11800961009401623</td>\n",
       "      <td>0.8231296504694116</td>\n",
       "      <td>0.11662303688055395</td>\n",
       "      <td>0.5207477077370273</td>\n",
       "      <td>...</td>\n",
       "      <td>0.15643497659551042</td>\n",
       "      <td>5.864855459199297</td>\n",
       "      <td>1.7045603867231742</td>\n",
       "      <td>0.3338070645159502</td>\n",
       "      <td>6841.523068170544</td>\n",
       "      <td>2.078016523692582</td>\n",
       "      <td>86399118.0</td>\n",
       "      <td>0.5035094492137611</td>\n",
       "      <td>165.26343794261007</td>\n",
       "      <td>3356.0</td>\n",
       "    </tr>\n",
       "    <tr>\n",
       "      <th>...</th>\n",
       "      <td>...</td>\n",
       "      <td>...</td>\n",
       "      <td>...</td>\n",
       "      <td>...</td>\n",
       "      <td>...</td>\n",
       "      <td>...</td>\n",
       "      <td>...</td>\n",
       "      <td>...</td>\n",
       "      <td>...</td>\n",
       "      <td>...</td>\n",
       "      <td>...</td>\n",
       "      <td>...</td>\n",
       "      <td>...</td>\n",
       "      <td>...</td>\n",
       "      <td>...</td>\n",
       "      <td>...</td>\n",
       "      <td>...</td>\n",
       "      <td>...</td>\n",
       "      <td>...</td>\n",
       "      <td>...</td>\n",
       "      <td>...</td>\n",
       "    </tr>\n",
       "    <tr>\n",
       "      <th>295</th>\n",
       "      <td>128.0</td>\n",
       "      <td>160.0</td>\n",
       "      <td>5.933001125546208</td>\n",
       "      <td>3.1999870167946964</td>\n",
       "      <td>-0.34118906848301483</td>\n",
       "      <td>1.213282524122731</td>\n",
       "      <td>0.15169176276090274</td>\n",
       "      <td>0.7778499570405336</td>\n",
       "      <td>0.15169176276090274</td>\n",
       "      <td>0.6109273053098496</td>\n",
       "      <td>...</td>\n",
       "      <td>0.20834754804150252</td>\n",
       "      <td>4.76133987721486</td>\n",
       "      <td>1.7456511594751007</td>\n",
       "      <td>0.34124357172090847</td>\n",
       "      <td>2427.824338359722</td>\n",
       "      <td>2.2695249715912333</td>\n",
       "      <td>24355385.0</td>\n",
       "      <td>0.4587781904729774</td>\n",
       "      <td>142.43498593735146</td>\n",
       "      <td>1142.0</td>\n",
       "    </tr>\n",
       "    <tr>\n",
       "      <th>296</th>\n",
       "      <td>98.0</td>\n",
       "      <td>142.0</td>\n",
       "      <td>11.477193262661693</td>\n",
       "      <td>18.626263266980775</td>\n",
       "      <td>0.37178545960578824</td>\n",
       "      <td>2.2760784214684375</td>\n",
       "      <td>0.206809053503226</td>\n",
       "      <td>0.8331737441662438</td>\n",
       "      <td>0.20596497366371558</td>\n",
       "      <td>0.7325828862968056</td>\n",
       "      <td>...</td>\n",
       "      <td>0.18219799351656613</td>\n",
       "      <td>6.62113114574964</td>\n",
       "      <td>2.347013532520064</td>\n",
       "      <td>0.6207218687429159</td>\n",
       "      <td>3978.7852821649512</td>\n",
       "      <td>2.167881555847231</td>\n",
       "      <td>28203178.0</td>\n",
       "      <td>0.3635382802006524</td>\n",
       "      <td>345.4470776568626</td>\n",
       "      <td>1910.0</td>\n",
       "    </tr>\n",
       "    <tr>\n",
       "      <th>297</th>\n",
       "      <td>48.0</td>\n",
       "      <td>139.0</td>\n",
       "      <td>18.01850685937391</td>\n",
       "      <td>195.89995879663672</td>\n",
       "      <td>4.7454134190050095</td>\n",
       "      <td>8.70468318381418</td>\n",
       "      <td>0.5404433059454212</td>\n",
       "      <td>0.8828793029705335</td>\n",
       "      <td>0.4070076577461059</td>\n",
       "      <td>1.1527630832436744</td>\n",
       "      <td>...</td>\n",
       "      <td>0.22698169207941252</td>\n",
       "      <td>7.994332032083868</td>\n",
       "      <td>3.3223143321996327</td>\n",
       "      <td>2.3112816224399</td>\n",
       "      <td>1961.1993532362746</td>\n",
       "      <td>2.2206446724698337</td>\n",
       "      <td>8519719.0</td>\n",
       "      <td>0.1987211958223581</td>\n",
       "      <td>1585.578960516863</td>\n",
       "      <td>932.0</td>\n",
       "    </tr>\n",
       "    <tr>\n",
       "      <th>298</th>\n",
       "      <td>122.0</td>\n",
       "      <td>156.0</td>\n",
       "      <td>36.654620411344546</td>\n",
       "      <td>160.66509235015735</td>\n",
       "      <td>-15.106722237830448</td>\n",
       "      <td>2.6457062967686547</td>\n",
       "      <td>0.1956061142951435</td>\n",
       "      <td>0.8590214836571479</td>\n",
       "      <td>0.1956061142951435</td>\n",
       "      <td>0.7083962030994309</td>\n",
       "      <td>...</td>\n",
       "      <td>0.21262537908484855</td>\n",
       "      <td>12.006987747786516</td>\n",
       "      <td>1.8925384174531006</td>\n",
       "      <td>0.7103281027659496</td>\n",
       "      <td>2428.5116038195347</td>\n",
       "      <td>2.201067918869669</td>\n",
       "      <td>22095880.0</td>\n",
       "      <td>0.4762927500944047</td>\n",
       "      <td>620.0106564108729</td>\n",
       "      <td>1161.0</td>\n",
       "    </tr>\n",
       "    <tr>\n",
       "      <th>299</th>\n",
       "      <td>0.0</td>\n",
       "      <td>136.60000000000002</td>\n",
       "      <td>17.306117344851874</td>\n",
       "      <td>441.0150674963602</td>\n",
       "      <td>-11.995991118477038</td>\n",
       "      <td>16.852333704939944</td>\n",
       "      <td>0.5443850558495202</td>\n",
       "      <td>0.9385328968197916</td>\n",
       "      <td>0.28821398873867893</td>\n",
       "      <td>0.9288672582091028</td>\n",
       "      <td>...</td>\n",
       "      <td>0.20357296056454727</td>\n",
       "      <td>7.268466501269913</td>\n",
       "      <td>2.80977053506168</td>\n",
       "      <td>4.349179690197365</td>\n",
       "      <td>1204.7653613467965</td>\n",
       "      <td>3.335760114481208</td>\n",
       "      <td>4411689.0</td>\n",
       "      <td>0.22056268993235956</td>\n",
       "      <td>2992.1788687383596</td>\n",
       "      <td>505.0</td>\n",
       "    </tr>\n",
       "  </tbody>\n",
       "</table>\n",
       "<p>300 rows × 56 columns</p>\n",
       "</div>"
      ],
      "text/plain": [
       "          10Percentile        90Percentile     Autocorrelation  \\\n",
       "0                106.0               137.0   5.330686111440979   \n",
       "1                 91.0               110.0  12.475223504294146   \n",
       "2    5.900000000000006                70.0   7.280986414050133   \n",
       "3                 68.0                97.0  3.6665570396070177   \n",
       "4                144.0               177.0   8.873934750223109   \n",
       "..                 ...                 ...                 ...   \n",
       "295              128.0               160.0   5.933001125546208   \n",
       "296               98.0               142.0  11.477193262661693   \n",
       "297               48.0               139.0   18.01850685937391   \n",
       "298              122.0               156.0  36.654620411344546   \n",
       "299                0.0  136.60000000000002  17.306117344851874   \n",
       "\n",
       "      ClusterProminence          ClusterShade     ClusterTendency  \\\n",
       "0    3.1299014101848663    0.2949656947477074  1.0175351255387302   \n",
       "1     2.995348990600872   -0.5804062481620946  1.1279434829520127   \n",
       "2     12.98916237202266   -3.6886661583940223  1.8316039352491853   \n",
       "3    3.0590808575943527   -0.2932503271624274    0.92375103392878   \n",
       "4      5.16630073315151  -0.09696211493954111  1.2172186479697849   \n",
       "..                  ...                   ...                 ...   \n",
       "295  3.1999870167946964  -0.34118906848301483   1.213282524122731   \n",
       "296  18.626263266980775   0.37178545960578824  2.2760784214684375   \n",
       "297  195.89995879663672    4.7454134190050095    8.70468318381418   \n",
       "298  160.66509235015735   -15.106722237830448  2.6457062967686547   \n",
       "299   441.0150674963602   -11.995991118477038  16.852333704939944   \n",
       "\n",
       "                 Contrast         Correlation     DifferenceAverage  \\\n",
       "0     0.12029201069041426  0.7883651276364155   0.11894786858514522   \n",
       "1     0.08988282429863369  0.8521707081879312   0.08988282429863369   \n",
       "2     0.08272688676368829  0.9130790194752633   0.08272688676368829   \n",
       "3    0.056124561800744675  0.8852878958511301  0.056124561800744675   \n",
       "4     0.11800961009401623  0.8231296504694116   0.11662303688055395   \n",
       "..                    ...                 ...                   ...   \n",
       "295   0.15169176276090274  0.7778499570405336   0.15169176276090274   \n",
       "296     0.206809053503226  0.8331737441662438   0.20596497366371558   \n",
       "297    0.5404433059454212  0.8828793029705335    0.4070076577461059   \n",
       "298    0.1956061142951435  0.8590214836571479    0.1956061142951435   \n",
       "299    0.5443850558495202  0.9385328968197916   0.28821398873867893   \n",
       "\n",
       "       DifferenceEntropy  ...           Sphericity          SumAverage  \\\n",
       "0     0.5284288881583875  ...  0.18314596540837882   4.519455807490639   \n",
       "1     0.4343109563661667  ...  0.20190314770566123   6.990193486950618   \n",
       "2    0.40377912408710653  ...  0.19184672734085265   5.232078340370215   \n",
       "3    0.31038635270614234  ...  0.19872066967313012   3.714638188350145   \n",
       "4     0.5207477077370273  ...  0.15643497659551042   5.864855459199297   \n",
       "..                   ...  ...                  ...                 ...   \n",
       "295   0.6109273053098496  ...  0.20834754804150252    4.76133987721486   \n",
       "296   0.7325828862968056  ...  0.18219799351656613    6.62113114574964   \n",
       "297   1.1527630832436744  ...  0.22698169207941252   7.994332032083868   \n",
       "298   0.7083962030994309  ...  0.21262537908484855  12.006987747786516   \n",
       "299   0.9288672582091028  ...  0.20357296056454727   7.268466501269913   \n",
       "\n",
       "             SumEntropy           SumSquares         SurfaceArea  \\\n",
       "0     1.571057233184022    0.284456784057286   4067.784894672939   \n",
       "1    1.5086972488263488  0.30445657681266153  2907.7357355780423   \n",
       "2    1.4490516260790836   0.4785827055032184  1391.1873944708323   \n",
       "3     1.307550509984336  0.24496889893238116   3176.563678745875   \n",
       "4    1.7045603867231742   0.3338070645159502   6841.523068170544   \n",
       "..                  ...                  ...                 ...   \n",
       "295  1.7456511594751007  0.34124357172090847   2427.824338359722   \n",
       "296   2.347013532520064   0.6207218687429159  3978.7852821649512   \n",
       "297  3.3223143321996327      2.3112816224399  1961.1993532362746   \n",
       "298  1.8925384174531006   0.7103281027659496  2428.5116038195347   \n",
       "299    2.80977053506168    4.349179690197365  1204.7653613467965   \n",
       "\n",
       "     SurfaceVolumeRatio TotalEnergy           Uniformity            Variance  \\\n",
       "0    2.1274098381379503  28436903.0    0.520692352659993   150.9793548822204   \n",
       "1    2.1738725828257746  13953720.0   0.4748337309518762   84.30848337515361   \n",
       "2     3.393139986514225   1944997.0   0.5720942257971846  433.26684573398444   \n",
       "3     2.130015877567641  11069884.0   0.5861315985798733  111.34010464758389   \n",
       "4     2.078016523692582  86399118.0   0.5035094492137611  165.26343794261007   \n",
       "..                  ...         ...                  ...                 ...   \n",
       "295  2.2695249715912333  24355385.0   0.4587781904729774  142.43498593735146   \n",
       "296   2.167881555847231  28203178.0   0.3635382802006524   345.4470776568626   \n",
       "297  2.2206446724698337   8519719.0   0.1987211958223581   1585.578960516863   \n",
       "298   2.201067918869669  22095880.0   0.4762927500944047   620.0106564108729   \n",
       "299   3.335760114481208   4411689.0  0.22056268993235956  2992.1788687383596   \n",
       "\n",
       "    VoxelVolume  \n",
       "0        1971.0  \n",
       "1        1394.0  \n",
       "2         590.0  \n",
       "3        1539.0  \n",
       "4        3356.0  \n",
       "..          ...  \n",
       "295      1142.0  \n",
       "296      1910.0  \n",
       "297       932.0  \n",
       "298      1161.0  \n",
       "299       505.0  \n",
       "\n",
       "[300 rows x 56 columns]"
      ]
     },
     "execution_count": 19,
     "metadata": {},
     "output_type": "execute_result"
    }
   ],
   "source": [
    "data_full"
   ]
  },
  {
   "cell_type": "code",
   "execution_count": 20,
   "id": "beefb0e6",
   "metadata": {
    "execution": {
     "iopub.execute_input": "2022-05-10T10:18:06.706892Z",
     "iopub.status.busy": "2022-05-10T10:18:06.705988Z",
     "iopub.status.idle": "2022-05-10T10:18:08.432549Z",
     "shell.execute_reply": "2022-05-10T10:18:08.433050Z",
     "shell.execute_reply.started": "2022-05-09T16:22:01.537196Z"
    },
    "papermill": {
     "duration": 2.054618,
     "end_time": "2022-05-10T10:18:08.433212",
     "exception": false,
     "start_time": "2022-05-10T10:18:06.378594",
     "status": "completed"
    },
    "tags": []
   },
   "outputs": [
    {
     "data": {
      "image/png": "[encoded data removed]",
      "text/plain": [
       "<Figure size 432x288 with 2 Axes>"
      ]
     },
     "metadata": {
      "needs_background": "light"
     },
     "output_type": "display_data"
    },
    {
     "name": "stdout",
     "output_type": "stream",
     "text": [
      "              precision    recall  f1-score   support\n",
      "\n",
      "           0       0.56      0.49      0.52        47\n",
      "           1       0.51      0.58      0.54        43\n",
      "\n",
      "    accuracy                           0.53        90\n",
      "   macro avg       0.54      0.54      0.53        90\n",
      "weighted avg       0.54      0.53      0.53        90\n",
      "\n"
     ]
    }
   ],
   "source": [
    "from sklearn.ensemble import RandomForestClassifier\n",
    "from sklearn.metrics import plot_confusion_matrix\n",
    "# Creación del modelo\n",
    "# ==============================================================================\n",
    "modelo = RandomForestClassifier(\n",
    "            n_estimators = 300,\n",
    "            max_depth    = None,\n",
    "            max_features = 'auto',\n",
    "            oob_score    = True,\n",
    "            n_jobs       = -1,\n",
    "            random_state = 0\n",
    "         )\n",
    "\n",
    "# Entrenamiento del modelo\n",
    "# ==============================================================================\n",
    "modelo.fit(X_train, y_train)\n",
    "\n",
    "# Error de test del modelo inicial\n",
    "# ==============================================================================\n",
    "pred = modelo.predict(X = X_test)\n",
    "\n",
    "importancesRF = pd.DataFrame(data={\n",
    "    'Attribute': data_full.columns,\n",
    "    'Importance': modelo.feature_importances_\n",
    "})\n",
    "importancesRF = importancesRF.sort_values(by='Importance', ascending=False)\n",
    "plot_confusion_matrix(modelo, X_test, y_test)  \n",
    "plt.show()\n",
    "print(classification_report(y_test,pred))\n"
   ]
  },
  {
   "cell_type": "code",
   "execution_count": 21,
   "id": "54a54fa4",
   "metadata": {
    "execution": {
     "iopub.execute_input": "2022-05-10T10:18:08.920270Z",
     "iopub.status.busy": "2022-05-10T10:18:08.919106Z",
     "iopub.status.idle": "2022-05-10T10:18:09.229124Z",
     "shell.execute_reply": "2022-05-10T10:18:09.229796Z",
     "shell.execute_reply.started": "2022-05-09T16:22:14.81222Z"
    },
    "papermill": {
     "duration": 0.571732,
     "end_time": "2022-05-10T10:18:09.229972",
     "exception": false,
     "start_time": "2022-05-10T10:18:08.658240",
     "status": "completed"
    },
    "tags": []
   },
   "outputs": [
    {
     "data": {
      "image/png": "[encoded data removed]",
      "text/plain": [
       "<Figure size 432x288 with 1 Axes>"
      ]
     },
     "metadata": {
      "needs_background": "light"
     },
     "output_type": "display_data"
    }
   ],
   "source": [
    "plt.bar(x=importancesRF['Attribute'][0:25], height=importancesRF['Importance'][0:25], color='#087E8B')\n",
    "plt.title('Feature importances obtained from coefficients', size=20)\n",
    "plt.xticks(rotation='vertical')\n",
    "plt.show()"
   ]
  },
  {
   "cell_type": "markdown",
   "id": "0e2c8160",
   "metadata": {
    "papermill": {
     "duration": 0.217662,
     "end_time": "2022-05-10T10:18:09.683271",
     "exception": false,
     "start_time": "2022-05-10T10:18:09.465609",
     "status": "completed"
    },
    "tags": []
   },
   "source": [
    "Elegimos las 9 carácteristicas más importantes. :"
   ]
  },
  {
   "cell_type": "code",
   "execution_count": 22,
   "id": "6f0a1eeb",
   "metadata": {
    "execution": {
     "iopub.execute_input": "2022-05-10T10:18:10.126879Z",
     "iopub.status.busy": "2022-05-10T10:18:10.125895Z",
     "iopub.status.idle": "2022-05-10T10:18:10.134043Z",
     "shell.execute_reply": "2022-05-10T10:18:10.133554Z",
     "shell.execute_reply.started": "2022-05-09T16:22:27.007273Z"
    },
    "papermill": {
     "duration": 0.236013,
     "end_time": "2022-05-10T10:18:10.134185",
     "exception": false,
     "start_time": "2022-05-10T10:18:09.898172",
     "status": "completed"
    },
    "tags": []
   },
   "outputs": [],
   "source": [
    "x1=importancesRF['Attribute'][0:20]\n",
    "data_top =data_full[x1]\n",
    "X2 = StandardScaler().fit_transform(data_top)\n",
    "\n",
    "X_train, X_test, y_train, y_test = train_test_split(X2, y_full, test_size=0.3, random_state=42)"
   ]
  },
  {
   "cell_type": "markdown",
   "id": "e0384083",
   "metadata": {
    "papermill": {
     "duration": 0.205043,
     "end_time": "2022-05-10T10:18:10.556883",
     "exception": false,
     "start_time": "2022-05-10T10:18:10.351840",
     "status": "completed"
    },
    "tags": []
   },
   "source": [
    "## modelo con top features\n",
    "\n",
    "Vamos a volver a entrenar el modelo Random Forest, pero ahora solo con las características más importantes. Veremos que los resultados mejoran. Aunque siguen estando lejos de ser buenos resultados"
   ]
  },
  {
   "cell_type": "code",
   "execution_count": 23,
   "id": "e0fea5a9",
   "metadata": {
    "execution": {
     "iopub.execute_input": "2022-05-10T10:18:10.980310Z",
     "iopub.status.busy": "2022-05-10T10:18:10.970056Z",
     "iopub.status.idle": "2022-05-10T10:18:12.605617Z",
     "shell.execute_reply": "2022-05-10T10:18:12.605067Z",
     "shell.execute_reply.started": "2022-05-09T16:22:41.61232Z"
    },
    "papermill": {
     "duration": 1.842983,
     "end_time": "2022-05-10T10:18:12.605769",
     "exception": false,
     "start_time": "2022-05-10T10:18:10.762786",
     "status": "completed"
    },
    "tags": []
   },
   "outputs": [
    {
     "data": {
      "image/png": "[encoded data removed]",
      "text/plain": [
       "<Figure size 432x288 with 2 Axes>"
      ]
     },
     "metadata": {
      "needs_background": "light"
     },
     "output_type": "display_data"
    },
    {
     "name": "stdout",
     "output_type": "stream",
     "text": [
      "              precision    recall  f1-score   support\n",
      "\n",
      "           0       0.53      0.43      0.47        47\n",
      "           1       0.48      0.58      0.53        43\n",
      "\n",
      "    accuracy                           0.50        90\n",
      "   macro avg       0.50      0.50      0.50        90\n",
      "weighted avg       0.50      0.50      0.50        90\n",
      "\n"
     ]
    }
   ],
   "source": [
    "from sklearn.ensemble import RandomForestClassifier\n",
    "from sklearn.metrics import plot_confusion_matrix\n",
    "# Creación del modelo\n",
    "# ==============================================================================\n",
    "modelo = RandomForestClassifier(\n",
    "            n_estimators = 400,\n",
    "            max_depth    = None,\n",
    "            max_features = 'auto',\n",
    "            oob_score    = True,\n",
    "            n_jobs       = -1,\n",
    "            random_state = 0\n",
    "         )\n",
    "\n",
    "# Entrenamiento del modelo\n",
    "# ==============================================================================\n",
    "modelo.fit(X_train, y_train)\n",
    "\n",
    "# Error de test del modelo inicial\n",
    "# ==============================================================================\n",
    "pred = modelo.predict(X = X_test)\n",
    "\n",
    "importances = pd.DataFrame(data={\n",
    "    'Attribute': data_top.columns,\n",
    "    'Importance': modelo.feature_importances_\n",
    "})\n",
    "importances = importances.sort_values(by='Importance', ascending=False)\n",
    "plot_confusion_matrix(modelo, X_test, y_test)  \n",
    "plt.show()\n",
    "print(classification_report(y_test,pred))"
   ]
  },
  {
   "cell_type": "markdown",
   "id": "bc22f885",
   "metadata": {
    "papermill": {
     "duration": 0.195618,
     "end_time": "2022-05-10T10:18:13.001505",
     "exception": false,
     "start_time": "2022-05-10T10:18:12.805887",
     "status": "completed"
    },
    "tags": []
   },
   "source": [
    "## Exctraccion de características con XGBClassifier\n",
    "\n",
    "Los modelos   xgboost nos permiten la opción de extraer las características y darnos un valor según su importancia. Vamos a utillizar este modelo para clasificar también nuestro dataset y después comprobaremos que nuestro modelo mejora al reducir las características y nos quedaremos con las 7 más importantes."
   ]
  },
  {
   "cell_type": "code",
   "execution_count": 24,
   "id": "307ad547",
   "metadata": {
    "execution": {
     "iopub.execute_input": "2022-05-10T10:18:13.432663Z",
     "iopub.status.busy": "2022-05-10T10:18:13.432113Z",
     "iopub.status.idle": "2022-05-10T10:18:13.436838Z",
     "shell.execute_reply": "2022-05-10T10:18:13.436407Z",
     "shell.execute_reply.started": "2022-05-09T16:22:45.617191Z"
    },
    "papermill": {
     "duration": 0.203523,
     "end_time": "2022-05-10T10:18:13.436953",
     "exception": false,
     "start_time": "2022-05-10T10:18:13.233430",
     "status": "completed"
    },
    "tags": []
   },
   "outputs": [],
   "source": [
    "X_train, X_test, y_train, y_test = train_test_split(X_full, y_full, test_size=0.3, random_state=42)"
   ]
  },
  {
   "cell_type": "code",
   "execution_count": 25,
   "id": "0854669a",
   "metadata": {
    "execution": {
     "iopub.execute_input": "2022-05-10T10:18:13.835974Z",
     "iopub.status.busy": "2022-05-10T10:18:13.835327Z",
     "iopub.status.idle": "2022-05-10T10:18:17.806466Z",
     "shell.execute_reply": "2022-05-10T10:18:17.806050Z",
     "shell.execute_reply.started": "2022-05-09T16:23:08.158791Z"
    },
    "papermill": {
     "duration": 4.171557,
     "end_time": "2022-05-10T10:18:17.806586",
     "exception": false,
     "start_time": "2022-05-10T10:18:13.635029",
     "status": "completed"
    },
    "tags": []
   },
   "outputs": [
    {
     "data": {
      "image/png": "[encoded data removed]",
      "text/plain": [
       "<Figure size 432x288 with 2 Axes>"
      ]
     },
     "metadata": {
      "needs_background": "light"
     },
     "output_type": "display_data"
    },
    {
     "name": "stdout",
     "output_type": "stream",
     "text": [
      "              precision    recall  f1-score   support\n",
      "\n",
      "           0       0.52      0.51      0.52        47\n",
      "           1       0.48      0.49      0.48        43\n",
      "\n",
      "    accuracy                           0.50        90\n",
      "   macro avg       0.50      0.50      0.50        90\n",
      "weighted avg       0.50      0.50      0.50        90\n",
      "\n"
     ]
    }
   ],
   "source": [
    "from xgboost import XGBClassifier\n",
    "\n",
    "model = XGBClassifier(use_label_encoder=False, objective = 'reg:logistic',learning_rate =  0.1,\n",
    "                      colsample_bytree = 0.8, alpha = 6)\n",
    "model.fit(X_train, y_train)\n",
    "importancesXG = pd.DataFrame(data={\n",
    "    'Attribute': data_full.columns,\n",
    "    'Importance': model.feature_importances_\n",
    "})\n",
    "importancesXG = importancesXG.sort_values(by='Importance', ascending=False)\n",
    "\n",
    "pred = model.predict(X = X_test)\n",
    "\n",
    "\n",
    "plot_confusion_matrix(model, X_test, y_test)  \n",
    "plt.show()\n",
    "print(classification_report(y_test,pred))"
   ]
  },
  {
   "cell_type": "code",
   "execution_count": 26,
   "id": "66887f5f",
   "metadata": {
    "execution": {
     "iopub.execute_input": "2022-05-10T10:18:18.230160Z",
     "iopub.status.busy": "2022-05-10T10:18:18.229247Z",
     "iopub.status.idle": "2022-05-10T10:18:18.466806Z",
     "shell.execute_reply": "2022-05-10T10:18:18.467182Z",
     "shell.execute_reply.started": "2022-05-09T16:23:11.968365Z"
    },
    "papermill": {
     "duration": 0.464448,
     "end_time": "2022-05-10T10:18:18.467340",
     "exception": false,
     "start_time": "2022-05-10T10:18:18.002892",
     "status": "completed"
    },
    "tags": []
   },
   "outputs": [
    {
     "data": {
      "image/png": "[encoded data removed]",
      "text/plain": [
       "<Figure size 432x288 with 1 Axes>"
      ]
     },
     "metadata": {
      "needs_background": "light"
     },
     "output_type": "display_data"
    }
   ],
   "source": [
    "plt.bar(x=importancesXG['Attribute'][0:25], height=importancesXG['Importance'][0:25], color='#087E8B')\n",
    "plt.title('Feature importances obtained from coefficients', size=20)\n",
    "plt.xticks(rotation='vertical')\n",
    "plt.show()"
   ]
  },
  {
   "cell_type": "code",
   "execution_count": 27,
   "id": "461f158e",
   "metadata": {
    "execution": {
     "iopub.execute_input": "2022-05-10T10:18:18.872497Z",
     "iopub.status.busy": "2022-05-10T10:18:18.871629Z",
     "iopub.status.idle": "2022-05-10T10:18:18.878878Z",
     "shell.execute_reply": "2022-05-10T10:18:18.878440Z",
     "shell.execute_reply.started": "2022-05-09T16:23:20.331874Z"
    },
    "papermill": {
     "duration": 0.213939,
     "end_time": "2022-05-10T10:18:18.879000",
     "exception": false,
     "start_time": "2022-05-10T10:18:18.665061",
     "status": "completed"
    },
    "tags": []
   },
   "outputs": [],
   "source": [
    "x2=importancesXG['Attribute'][0:20]\n",
    "data_top =data_full[x2]\n",
    "X2 = StandardScaler().fit_transform(data_top)\n",
    "X_train, X_test, y_train, y_test = train_test_split(X2, y_full, test_size=0.3, random_state=42)"
   ]
  },
  {
   "cell_type": "markdown",
   "id": "c4e1ca3c",
   "metadata": {
    "papermill": {
     "duration": 0.197228,
     "end_time": "2022-05-10T10:18:19.286880",
     "exception": false,
     "start_time": "2022-05-10T10:18:19.089652",
     "status": "completed"
    },
    "tags": []
   },
   "source": [
    "\n",
    "Pruebo un clasificador con las variables más importantes segun el random forest y un clasificador con las variables más importantes segun el  XGBClassifier:\n",
    "\n",
    "####  XGBClassifier:"
   ]
  },
  {
   "cell_type": "code",
   "execution_count": 28,
   "id": "5dd979b0",
   "metadata": {
    "execution": {
     "iopub.execute_input": "2022-05-10T10:18:19.689327Z",
     "iopub.status.busy": "2022-05-10T10:18:19.688699Z",
     "iopub.status.idle": "2022-05-10T10:18:19.883042Z",
     "shell.execute_reply": "2022-05-10T10:18:19.882546Z",
     "shell.execute_reply.started": "2022-05-09T16:23:26.713103Z"
    },
    "papermill": {
     "duration": 0.399635,
     "end_time": "2022-05-10T10:18:19.883175",
     "exception": false,
     "start_time": "2022-05-10T10:18:19.483540",
     "status": "completed"
    },
    "tags": []
   },
   "outputs": [
    {
     "data": {
      "image/png": "[encoded data removed]",
      "text/plain": [
       "<Figure size 432x288 with 2 Axes>"
      ]
     },
     "metadata": {
      "needs_background": "light"
     },
     "output_type": "display_data"
    },
    {
     "name": "stdout",
     "output_type": "stream",
     "text": [
      "              precision    recall  f1-score   support\n",
      "\n",
      "           0       0.54      0.68      0.60        47\n",
      "           1       0.52      0.37      0.43        43\n",
      "\n",
      "    accuracy                           0.53        90\n",
      "   macro avg       0.53      0.53      0.52        90\n",
      "weighted avg       0.53      0.53      0.52        90\n",
      "\n"
     ]
    }
   ],
   "source": [
    "from xgboost import XGBClassifier\n",
    "\n",
    "model = XGBClassifier(use_label_encoder=False, objective = 'reg:logistic',learning_rate =1,\n",
    "                      colsample_bytree = 0.7, alpha = 6)\n",
    "model.fit(X_train, y_train)\n",
    "importances = pd.DataFrame(data={\n",
    "    'Attribute': data_top.columns,\n",
    "    'Importance': model.feature_importances_\n",
    "})\n",
    "importances = importances.sort_values(by='Importance', ascending=False)\n",
    "\n",
    "pred = model.predict(X = X_test)\n",
    "\n",
    "\n",
    "plot_confusion_matrix(model, X_test, y_test)  \n",
    "plt.show()\n",
    "print(classification_report(y_test,pred))"
   ]
  },
  {
   "cell_type": "markdown",
   "id": "442772ab",
   "metadata": {
    "papermill": {
     "duration": 0.200737,
     "end_time": "2022-05-10T10:18:20.282624",
     "exception": false,
     "start_time": "2022-05-10T10:18:20.081887",
     "status": "completed"
    },
    "tags": []
   },
   "source": [
    "## Gradient Boosting Classifier\n",
    "\n",
    "Vamos a entrenar un clasificador con las variables más importantes segun los dos modelos anteriormente entrenados."
   ]
  },
  {
   "cell_type": "code",
   "execution_count": 29,
   "id": "f187950c",
   "metadata": {
    "execution": {
     "iopub.execute_input": "2022-05-10T10:18:20.695809Z",
     "iopub.status.busy": "2022-05-10T10:18:20.695083Z",
     "iopub.status.idle": "2022-05-10T10:18:21.195979Z",
     "shell.execute_reply": "2022-05-10T10:18:21.195533Z",
     "shell.execute_reply.started": "2022-05-09T16:23:37.897704Z"
    },
    "papermill": {
     "duration": 0.708892,
     "end_time": "2022-05-10T10:18:21.196102",
     "exception": false,
     "start_time": "2022-05-10T10:18:20.487210",
     "status": "completed"
    },
    "tags": []
   },
   "outputs": [
    {
     "name": "stdout",
     "output_type": "stream",
     "text": [
      "              precision    recall  f1-score   support\n",
      "\n",
      "           0       0.70      0.64      0.67        47\n",
      "           1       0.64      0.70      0.67        43\n",
      "\n",
      "    accuracy                           0.67        90\n",
      "   macro avg       0.67      0.67      0.67        90\n",
      "weighted avg       0.67      0.67      0.67        90\n",
      "\n"
     ]
    },
    {
     "data": {
      "image/png": "[encoded data removed]",
      "text/plain": [
       "<Figure size 432x288 with 2 Axes>"
      ]
     },
     "metadata": {
      "needs_background": "light"
     },
     "output_type": "display_data"
    }
   ],
   "source": [
    "from sklearn.datasets import make_hastie_10_2\n",
    "from sklearn.ensemble import GradientBoostingClassifier\n",
    "\n",
    "\n",
    "clf = GradientBoostingClassifier(n_estimators=400, learning_rate=1,\n",
    "    max_depth=1, random_state=0).fit(X_train, y_train)\n",
    "clf.score(X_test, y_test)\n",
    "pred =clf.predict(X_test)\n",
    "print(classification_report(y_test,pred))\n",
    "plot_confusion_matrix(clf, X_test, y_test)  \n",
    "plt.show()"
   ]
  },
  {
   "cell_type": "markdown",
   "id": "8957b171",
   "metadata": {
    "papermill": {
     "duration": 0.19862,
     "end_time": "2022-05-10T10:18:21.592586",
     "exception": false,
     "start_time": "2022-05-10T10:18:21.393966",
     "status": "completed"
    },
    "tags": []
   },
   "source": [
    "### Random forest features :\n"
   ]
  },
  {
   "cell_type": "code",
   "execution_count": 30,
   "id": "6d64170c",
   "metadata": {
    "execution": {
     "iopub.execute_input": "2022-05-10T10:18:22.011616Z",
     "iopub.status.busy": "2022-05-10T10:18:22.010768Z",
     "iopub.status.idle": "2022-05-10T10:18:22.018101Z",
     "shell.execute_reply": "2022-05-10T10:18:22.017643Z",
     "shell.execute_reply.started": "2022-05-09T16:24:05.976003Z"
    },
    "papermill": {
     "duration": 0.219146,
     "end_time": "2022-05-10T10:18:22.018213",
     "exception": false,
     "start_time": "2022-05-10T10:18:21.799067",
     "status": "completed"
    },
    "tags": []
   },
   "outputs": [],
   "source": [
    "x1=importancesRF['Attribute'][0:20]\n",
    "data_top =data_full[x1]\n",
    "X2 = StandardScaler().fit_transform(data_top)\n",
    "\n",
    "X_train, X_test, y_train, y_test = train_test_split(X2, y_full, test_size=0.3, random_state=42)"
   ]
  },
  {
   "cell_type": "code",
   "execution_count": 31,
   "id": "515b5fcd",
   "metadata": {
    "execution": {
     "iopub.execute_input": "2022-05-10T10:18:22.433663Z",
     "iopub.status.busy": "2022-05-10T10:18:22.432888Z",
     "iopub.status.idle": "2022-05-10T10:18:22.851483Z",
     "shell.execute_reply": "2022-05-10T10:18:22.851046Z",
     "shell.execute_reply.started": "2022-05-09T16:24:08.692668Z"
    },
    "papermill": {
     "duration": 0.624641,
     "end_time": "2022-05-10T10:18:22.851600",
     "exception": false,
     "start_time": "2022-05-10T10:18:22.226959",
     "status": "completed"
    },
    "tags": []
   },
   "outputs": [
    {
     "name": "stdout",
     "output_type": "stream",
     "text": [
      "              precision    recall  f1-score   support\n",
      "\n",
      "           0       0.62      0.60      0.61        47\n",
      "           1       0.58      0.60      0.59        43\n",
      "\n",
      "    accuracy                           0.60        90\n",
      "   macro avg       0.60      0.60      0.60        90\n",
      "weighted avg       0.60      0.60      0.60        90\n",
      "\n"
     ]
    },
    {
     "data": {
      "image/png": "[encoded data removed]",
      "text/plain": [
       "<Figure size 432x288 with 2 Axes>"
      ]
     },
     "metadata": {
      "needs_background": "light"
     },
     "output_type": "display_data"
    }
   ],
   "source": [
    "clf = GradientBoostingClassifier(n_estimators=400, learning_rate=1,\n",
    "    max_depth=1, random_state=0).fit(X_train, y_train)\n",
    "clf.score(X_test, y_test)\n",
    "pred =clf.predict(X_test)\n",
    "print(classification_report(y_test,pred))\n",
    "plot_confusion_matrix(clf, X_test, y_test)  \n",
    "plt.show()"
   ]
  },
  {
   "cell_type": "markdown",
   "id": "40d4c50d",
   "metadata": {
    "papermill": {
     "duration": 0.344201,
     "end_time": "2022-05-10T10:18:23.398194",
     "exception": false,
     "start_time": "2022-05-10T10:18:23.053993",
     "status": "completed"
    },
    "tags": []
   },
   "source": [
    "## Conclusiones\n",
    "\n",
    "* Vemos que las características extraidas segun el XGB nos permiten establecer un mejor clasificador que las caracteristicas extraídas vía Random Forest.\n",
    "\n",
    "\n",
    "* Los resultados siguen siendo pobres, esto puede ser debido a que la detección de outliers que hemos utilizado  no sea la adecuada, y hayamos entrenado al modelo con segmentaciones erróneas\n"
   ]
  },
  {
   "cell_type": "code",
   "execution_count": 32,
   "id": "f636191d",
   "metadata": {
    "execution": {
     "iopub.execute_input": "2022-05-10T10:18:23.914946Z",
     "iopub.status.busy": "2022-05-10T10:18:23.914324Z",
     "iopub.status.idle": "2022-05-10T10:18:23.917283Z",
     "shell.execute_reply": "2022-05-10T10:18:23.917699Z",
     "shell.execute_reply.started": "2022-05-09T16:25:12.271097Z"
    },
    "papermill": {
     "duration": 0.211549,
     "end_time": "2022-05-10T10:18:23.917838",
     "exception": false,
     "start_time": "2022-05-10T10:18:23.706289",
     "status": "completed"
    },
    "tags": []
   },
   "outputs": [
    {
     "name": "stdout",
     "output_type": "stream",
     "text": [
      "Características más importantes segun el XGBC: \n",
      "5                 ClusterTendency\n",
      "51             SurfaceVolumeRatio\n",
      "3               ClusterProminence\n",
      "29                MajorAxisLength\n",
      "32           Maximum2DDiameterRow\n",
      "13                        Entropy\n",
      "28                            MCC\n",
      "31        Maximum2DDiameterColumn\n",
      "16                            Idm\n",
      "41                MinorAxisLength\n",
      "11                     Elongation\n",
      "43    RobustMeanAbsoluteDeviation\n",
      "4                    ClusterShade\n",
      "7                     Correlation\n",
      "34              Maximum3DDiameter\n",
      "9               DifferenceEntropy\n",
      "45                       Skewness\n",
      "44                RootMeanSquared\n",
      "30                        Maximum\n",
      "2                 Autocorrelation\n",
      "Name: Attribute, dtype: object\n"
     ]
    }
   ],
   "source": [
    " print(\"Características más importantes segun el XGBC: \")\n",
    "print(x2)\n"
   ]
  },
  {
   "cell_type": "code",
   "execution_count": 33,
   "id": "5251f469",
   "metadata": {
    "execution": {
     "iopub.execute_input": "2022-05-10T10:18:24.328134Z",
     "iopub.status.busy": "2022-05-10T10:18:24.327428Z",
     "iopub.status.idle": "2022-05-10T10:18:24.330218Z",
     "shell.execute_reply": "2022-05-10T10:18:24.330631Z",
     "shell.execute_reply.started": "2022-05-09T16:25:16.34749Z"
    },
    "papermill": {
     "duration": 0.21093,
     "end_time": "2022-05-10T10:18:24.330793",
     "exception": false,
     "start_time": "2022-05-10T10:18:24.119863",
     "status": "completed"
    },
    "tags": []
   },
   "outputs": [
    {
     "name": "stdout",
     "output_type": "stream",
     "text": [
      "Características más importantes segun el Random Forest: \n",
      "31        Maximum2DDiameterColumn\n",
      "29                MajorAxisLength\n",
      "11                     Elongation\n",
      "26                       Kurtosis\n",
      "51             SurfaceVolumeRatio\n",
      "45                       Skewness\n",
      "41                MinorAxisLength\n",
      "43    RobustMeanAbsoluteDeviation\n",
      "4                    ClusterShade\n",
      "47                     SumAverage\n",
      "33         Maximum2DDiameterSlice\n",
      "12                         Energy\n",
      "18                            Idn\n",
      "42                          Range\n",
      "52                    TotalEnergy\n",
      "34              Maximum3DDiameter\n",
      "2                 Autocorrelation\n",
      "3               ClusterProminence\n",
      "35             MaximumProbability\n",
      "6                        Contrast\n",
      "Name: Attribute, dtype: object\n"
     ]
    }
   ],
   "source": [
    "print(\"Características más importantes segun el Random Forest: \")\n",
    "print(x1)"
   ]
  },
  {
   "cell_type": "markdown",
   "id": "9a71596b",
   "metadata": {
    "papermill": {
     "duration": 0.204873,
     "end_time": "2022-05-10T10:18:24.737609",
     "exception": false,
     "start_time": "2022-05-10T10:18:24.532736",
     "status": "completed"
    },
    "tags": []
   },
   "source": [
    "# Errores en la segmentación\n",
    "\n",
    "## P.S. Warning\n",
    "The segmentation doesn't not working properly on all images due to the different tumor modalities. The model was trained on low-grade tumors, so be aware. Let's see the examples"
   ]
  },
  {
   "cell_type": "markdown",
   "id": "ace31269",
   "metadata": {
    "papermill": {
     "duration": 0.201861,
     "end_time": "2022-05-10T10:18:25.141953",
     "exception": false,
     "start_time": "2022-05-10T10:18:24.940092",
     "status": "completed"
    },
    "tags": []
   },
   "source": [
    "#### For this type of broken segmentation like in '00009' we could perform a little trick to fix. \n",
    "We need to multiply mask to the empty space of the original image"
   ]
  },
  {
   "cell_type": "code",
   "execution_count": 34,
   "id": "75d87671",
   "metadata": {
    "execution": {
     "iopub.execute_input": "2022-05-10T10:18:25.552349Z",
     "iopub.status.busy": "2022-05-10T10:18:25.551798Z",
     "iopub.status.idle": "2022-05-10T10:18:35.036016Z",
     "shell.execute_reply": "2022-05-10T10:18:35.036453Z"
    },
    "papermill": {
     "duration": 9.692725,
     "end_time": "2022-05-10T10:18:35.036604",
     "exception": false,
     "start_time": "2022-05-10T10:18:25.343879",
     "status": "completed"
    },
    "tags": []
   },
   "outputs": [
    {
     "data": {
      "text/plain": [
       "<matplotlib.image.AxesImage at 0x7fd95039b210>"
      ]
     },
     "execution_count": 34,
     "metadata": {},
     "output_type": "execute_result"
    },
    {
     "data": {
      "image/png": "[encoded data removed]",
      "text/plain": [
       "<Figure size 1440x1440 with 5 Axes>"
      ]
     },
     "metadata": {
      "needs_background": "light"
     },
     "output_type": "display_data"
    }
   ],
   "source": [
    "im = get_img(6)\n",
    "test_img = np.array([np.moveaxis(np.array(im.resize((256, 256))), -1, 0)])\n",
    "test_res = model_unet(torch.Tensor(test_img))\n",
    "\n",
    "f, axarr = plt.subplots(1,5, figsize=(20, 20))\n",
    "axarr[0].imshow(test_img[0, 0])\n",
    "axarr[1].imshow(test_img[0, 1])\n",
    "axarr[2].imshow(test_img[0, 2])\n",
    "axarr[3].imshow(test_res[0][0].detach().cpu().numpy() > 0.5)\n",
    "axarr[4].imshow((test_res[0][0].detach().cpu().numpy() > 0.5) * (test_img[0, 1] != 0))"
   ]
  },
  {
   "cell_type": "markdown",
   "id": "2b8ffc2c",
   "metadata": {
    "papermill": {
     "duration": 0.218965,
     "end_time": "2022-05-10T10:18:35.474048",
     "exception": false,
     "start_time": "2022-05-10T10:18:35.255083",
     "status": "completed"
    },
    "tags": []
   },
   "source": [
    "#### For the \"00003\" image the broken segmentation could be due to the bad registration and this trick won't work"
   ]
  },
  {
   "cell_type": "code",
   "execution_count": 35,
   "id": "bd82d7cb",
   "metadata": {
    "execution": {
     "iopub.execute_input": "2022-05-10T10:18:35.888456Z",
     "iopub.status.busy": "2022-05-10T10:18:35.887808Z",
     "iopub.status.idle": "2022-05-10T10:18:40.985883Z",
     "shell.execute_reply": "2022-05-10T10:18:40.985421Z"
    },
    "papermill": {
     "duration": 5.307131,
     "end_time": "2022-05-10T10:18:40.986010",
     "exception": false,
     "start_time": "2022-05-10T10:18:35.678879",
     "status": "completed"
    },
    "tags": []
   },
   "outputs": [
    {
     "data": {
      "text/plain": [
       "<matplotlib.image.AxesImage at 0x7fd95017e190>"
      ]
     },
     "execution_count": 35,
     "metadata": {},
     "output_type": "execute_result"
    },
    {
     "data": {
      "image/png": "[encoded data removed]",
      "text/plain": [
       "<Figure size 1440x1440 with 5 Axes>"
      ]
     },
     "metadata": {
      "needs_background": "light"
     },
     "output_type": "display_data"
    }
   ],
   "source": [
    "im = get_img(2)\n",
    "test_img = np.array([np.moveaxis(np.array(im.resize((256, 256))), -1, 0)])\n",
    "test_res = model_unet(torch.Tensor(test_img))\n",
    "\n",
    "f, axarr = plt.subplots(1,5, figsize=(20, 20))\n",
    "axarr[0].imshow(test_img[0, 0])\n",
    "axarr[1].imshow(test_img[0, 1])\n",
    "axarr[2].imshow(test_img[0, 2])\n",
    "axarr[3].imshow(test_res[0][0].detach().cpu().numpy() > 0.5)\n",
    "axarr[4].imshow((test_res[0][0].detach().cpu().numpy() > 0.5) * (test_img[0, 1] != 0))"
   ]
  },
  {
   "cell_type": "markdown",
   "id": "37d2d744",
   "metadata": {
    "papermill": {
     "duration": 0.205911,
     "end_time": "2022-05-10T10:18:41.399928",
     "exception": false,
     "start_time": "2022-05-10T10:18:41.194017",
     "status": "completed"
    },
    "tags": []
   },
   "source": [
    "#### Let's see more examples of broken segmentation"
   ]
  },
  {
   "cell_type": "code",
   "execution_count": 36,
   "id": "6d812fc1",
   "metadata": {
    "execution": {
     "iopub.execute_input": "2022-05-10T10:18:41.822120Z",
     "iopub.status.busy": "2022-05-10T10:18:41.821422Z",
     "iopub.status.idle": "2022-05-10T10:19:01.493045Z",
     "shell.execute_reply": "2022-05-10T10:19:01.493486Z"
    },
    "papermill": {
     "duration": 19.885761,
     "end_time": "2022-05-10T10:19:01.493631",
     "exception": false,
     "start_time": "2022-05-10T10:18:41.607870",
     "status": "completed"
    },
    "tags": []
   },
   "outputs": [
    {
     "data": {
      "text/plain": [
       "<matplotlib.image.AxesImage at 0x7fd9294c4290>"
      ]
     },
     "execution_count": 36,
     "metadata": {},
     "output_type": "execute_result"
    },
    {
     "data": {
      "image/png": "[encoded data removed]",
      "text/plain": [
       "<Figure size 1440x1440 with 5 Axes>"
      ]
     },
     "metadata": {
      "needs_background": "light"
     },
     "output_type": "display_data"
    }
   ],
   "source": [
    "im = get_img(9)\n",
    "test_img = np.array([np.moveaxis(np.array(im.resize((256, 256))), -1, 0)])\n",
    "test_res = model_unet(torch.Tensor(test_img))\n",
    "\n",
    "f, axarr = plt.subplots(1,5, figsize=(20, 20))\n",
    "axarr[0].imshow(test_img[0, 0])\n",
    "axarr[1].imshow(test_img[0, 1])\n",
    "axarr[2].imshow(test_img[0, 2])\n",
    "axarr[3].imshow(test_res[0][0].detach().cpu().numpy() > 0.5)\n",
    "axarr[4].imshow((test_res[0][0].detach().cpu().numpy() > 0.5) * (test_img[0, 1] != 0))"
   ]
  },
  {
   "cell_type": "code",
   "execution_count": 37,
   "id": "95e00102",
   "metadata": {
    "execution": {
     "iopub.execute_input": "2022-05-10T10:19:01.925078Z",
     "iopub.status.busy": "2022-05-10T10:19:01.924505Z",
     "iopub.status.idle": "2022-05-10T10:19:07.031973Z",
     "shell.execute_reply": "2022-05-10T10:19:07.032376Z"
    },
    "papermill": {
     "duration": 5.323161,
     "end_time": "2022-05-10T10:19:07.032518",
     "exception": false,
     "start_time": "2022-05-10T10:19:01.709357",
     "status": "completed"
    },
    "tags": []
   },
   "outputs": [
    {
     "data": {
      "text/plain": [
       "<matplotlib.image.AxesImage at 0x7fd9511467d0>"
      ]
     },
     "execution_count": 37,
     "metadata": {},
     "output_type": "execute_result"
    },
    {
     "data": {
      "image/png": "[encoded data removed]",
      "text/plain": [
       "<Figure size 1440x1440 with 5 Axes>"
      ]
     },
     "metadata": {
      "needs_background": "light"
     },
     "output_type": "display_data"
    }
   ],
   "source": [
    "im = get_img(20)\n",
    "test_img = np.array([np.moveaxis(np.array(im.resize((256, 256))), -1, 0)])\n",
    "test_res = model_unet(torch.Tensor(test_img))\n",
    "\n",
    "f, axarr = plt.subplots(1,5, figsize=(20, 20))\n",
    "axarr[0].imshow(test_img[0, 0])\n",
    "axarr[1].imshow(test_img[0, 1])\n",
    "axarr[2].imshow(test_img[0, 2])\n",
    "axarr[3].imshow(test_res[0][0].detach().cpu().numpy() > 0.5)\n",
    "axarr[4].imshow((test_res[0][0].detach().cpu().numpy() > 0.5) * (test_img[0, 1] != 0))"
   ]
  },
  {
   "cell_type": "code",
   "execution_count": 38,
   "id": "5046b49c",
   "metadata": {
    "execution": {
     "iopub.execute_input": "2022-05-10T10:19:07.719775Z",
     "iopub.status.busy": "2022-05-10T10:19:07.719124Z",
     "iopub.status.idle": "2022-05-10T10:19:13.475139Z",
     "shell.execute_reply": "2022-05-10T10:19:13.475517Z"
    },
    "papermill": {
     "duration": 6.089465,
     "end_time": "2022-05-10T10:19:13.475695",
     "exception": false,
     "start_time": "2022-05-10T10:19:07.386230",
     "status": "completed"
    },
    "tags": []
   },
   "outputs": [
    {
     "data": {
      "text/plain": [
       "<matplotlib.image.AxesImage at 0x7fd951127e50>"
      ]
     },
     "execution_count": 38,
     "metadata": {},
     "output_type": "execute_result"
    },
    {
     "data": {
      "image/png": "[encoded data removed]",
      "text/plain": [
       "<Figure size 1440x1440 with 5 Axes>"
      ]
     },
     "metadata": {
      "needs_background": "light"
     },
     "output_type": "display_data"
    }
   ],
   "source": [
    "im = get_img(24)\n",
    "test_img = np.array([np.moveaxis(np.array(im.resize((256, 256))), -1, 0)])\n",
    "test_res = model_unet(torch.Tensor(test_img))\n",
    "\n",
    "f, axarr = plt.subplots(1,5, figsize=(20, 20))\n",
    "axarr[0].imshow(test_img[0, 0])\n",
    "axarr[1].imshow(test_img[0, 1])\n",
    "axarr[2].imshow(test_img[0, 2])\n",
    "axarr[3].imshow(test_res[0][0].detach().cpu().numpy() > 0.5)\n",
    "axarr[4].imshow((test_res[0][0].detach().cpu().numpy() > 0.5) * (test_img[0, 1] != 0))"
   ]
  }
 ],
 "metadata": {
  "kernelspec": {
   "display_name": "Python 3",
   "language": "python",
   "name": "python3"
  },
  "language_info": {
   "codemirror_mode": {
    "name": "ipython",
    "version": 3
   },
   "file_extension": ".py",
   "mimetype": "text/x-python",
   "name": "python",
   "nbconvert_exporter": "python",
   "pygments_lexer": "ipython3",
   "version": "3.7.10"
  },
  "papermill": {
   "default_parameters": {},
   "duration": 1516.367933,
   "end_time": "2022-05-10T10:19:16.706345",
   "environment_variables": {},
   "exception": null,
   "input_path": "__notebook__.ipynb",
   "output_path": "__notebook__.ipynb",
   "parameters": {},
   "start_time": "2022-05-10T09:54:00.338412",
   "version": "2.3.3"
  }
 },
 "nbformat": 4,
 "nbformat_minor": 5
}
